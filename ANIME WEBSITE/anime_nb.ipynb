{
 "cells": [
  {
   "cell_type": "code",
   "execution_count": 2,
   "metadata": {},
   "outputs": [],
   "source": [
    "from time import sleep \n",
    "from selenium import webdriver \n",
    "import pandas as pd\n",
    "from bs4 import BeautifulSoup \n",
    "import requests \n",
    "chrome_driver_path = r'C:\\Users\\ELITEBOOK 1030\\Downloads\\chromedriver-win64\\chromedriver.exe'\n",
    "import html5lib"
   ]
  },
  {
   "cell_type": "code",
   "execution_count": 3,
   "metadata": {},
   "outputs": [
    {
     "name": "stdout",
     "output_type": "stream",
     "text": [
      "Failed to retrieve data from the website.\n",
      "['https://upmovies.net/watch/yd6P1Rx7-elizabeth-r-season-1.html', 'https://upmovies.net/watch/Ovkr79Vd-why-r-u-2023.html', 'https://upmovies.net/watch/Ovkrpbpd-why-r-u.html', 'https://upmovies.net/watch/zGWeOPvP-weiss-survive-r.html', 'https://upmovies.net/watch/wvnPjjGQ-weiß-survive-r.html', 'https://upmovies.net/watch/QvM5ypv2-zero-woman-r.html', 'https://upmovies.net/watch/oxQZAyGn-saber-marionette-r.html', 'https://upmovies.net/watch/yGDO5wx6-sailor-moon-r.html', 'https://upmovies.net/watch/gdV8r0xD-nurse-witch-komugi-chan-r.html', 'https://upmovies.net/watch/yGDMgNd6-kindaichi-case-files-r.html', 'https://upmovies.net/watch/Nx4joodz-sailor-moon-r-dub.html', 'https://upmovies.net/watch/zGW35LGP-kindaichi-case-files-r-s2.html', 'https://upmovies.net/watch/wvnZArrv-chou-futsuu-toshi-kashiwa-densetsu-r.html', 'https://upmovies.net/watch/qvoVr0od-butt-attack-punisher-girl-gautaman-r.html', 'https://upmovies.net/watch/zGeOazvb-gekijo-ban-bishojo-senshi-sera-mûn-r.html', 'https://upmovies.net/watch/zGWlBrld-the-legend-of-super-normal-city-kashiwa-r.html', 'https://upmovies.net/watch/LxRjWnxO-kare-baka-wagahai-no-kare-wa-baka-de-r.html', 'https://upmovies.net/watch/zGObERKx-naked-ambition-an-r-rated-look-at-an-x-rated-industry.html', 'https://upmovies.net/watch/zGe0ZPjx-charles-r-the-making-of-a-monarch.html', 'https://upmovies.net/watch/kvYNVaox-sailor-moon-r-the-movie-the-promise-of-the-rose.html', 'https://upmovies.net/watch/qvaqq77v-sailor-moon-r-the-movie-the-promise-of-the-rose-sub.html', 'https://upmovies.net/watch/Xvjyyl9d-sailor-moon-r-the-movie-the-promise-of-the-rose-dub.html', 'https://upmovies.net/watch/kvYNDA3x-swv-xscape-the-queens-of-r-b-season-1.html', 'https://upmovies.net/watch/ox0o7Mqv-sniper-g-r-i-t-global-response-intelligence-team.html', 'https://upmovies.net/watch/oxQ9eogx-r-a-d-a-r-the-adventures-of-the-bionic-dog.html', 'https://upmovies.net/watch/kxz6Z61x-redefined-j-r-smith-season-1.html', 'https://upmovies.net/watch/Ed9EZ1Ad-r-m-n.html', 'https://upmovies.net/watch/wvnZnVPv-pet-e-r-o-toole-along-the-sky-road-to-aqaba.html', 'https://upmovies.net/watch/VdPVyKZx-the-c-r-o-w-d-short-2022.html']\n"
     ]
    }
   ],
   "source": [
    "\n",
    "def get_url (INDEX,PAGE_NUM):\n",
    "    TEMPLATES = \"https://upmovies.net/search-movies/{}/page-{}.html\"\n",
    "    url = TEMPLATES.format(INDEX,PAGE_NUM)\n",
    "    return url\n",
    "a = input(\"ENTER AN INDEX : \")\n",
    "b = input(\"ENTER NUMBER OF PAGES: \")\n",
    "url = get_url(a,b)\n",
    "my_list = []    \n",
    "r  = requests.get(url)\n",
    "sleep(10)\n",
    "soup = BeautifulSoup(r.text,'html5lib')\n",
    "\n",
    "MOVIE_CON = soup.find_all('div',class_ = \"shortItem listItem\")\n",
    "for tag in MOVIE_CON:\n",
    " # Find the <a> tag inside the <div> element\n",
    "    tag_a = tag.find('a', href=True)\n",
    "        # Extract the text and href attribute from the <a> tag\n",
    "    if tag_a:\n",
    "        movie_link = tag_a['href']\n",
    "            # Append the extracted data to the list\n",
    "        my_list.append(movie_link)\n",
    "    else:\n",
    "        print(\"Failed to retrieve data from the website.\")\n",
    "\n",
    "print(my_list)"
   ]
  },
  {
   "cell_type": "code",
   "execution_count": 4,
   "metadata": {},
   "outputs": [
    {
     "name": "stdout",
     "output_type": "stream",
     "text": [
      "29\n",
      "['https://upmovies.net/watch/yd6P1Rx7-elizabeth-r-season-1.html', 'https://upmovies.net/watch/Ovkr79Vd-why-r-u-2023.html', 'https://upmovies.net/watch/Ovkrpbpd-why-r-u.html', 'https://upmovies.net/watch/zGWeOPvP-weiss-survive-r.html', 'https://upmovies.net/watch/wvnPjjGQ-weiß-survive-r.html', 'https://upmovies.net/watch/QvM5ypv2-zero-woman-r.html', 'https://upmovies.net/watch/oxQZAyGn-saber-marionette-r.html', 'https://upmovies.net/watch/yGDO5wx6-sailor-moon-r.html', 'https://upmovies.net/watch/gdV8r0xD-nurse-witch-komugi-chan-r.html', 'https://upmovies.net/watch/yGDMgNd6-kindaichi-case-files-r.html', 'https://upmovies.net/watch/Nx4joodz-sailor-moon-r-dub.html', 'https://upmovies.net/watch/zGW35LGP-kindaichi-case-files-r-s2.html', 'https://upmovies.net/watch/wvnZArrv-chou-futsuu-toshi-kashiwa-densetsu-r.html', 'https://upmovies.net/watch/qvoVr0od-butt-attack-punisher-girl-gautaman-r.html', 'https://upmovies.net/watch/zGeOazvb-gekijo-ban-bishojo-senshi-sera-mûn-r.html', 'https://upmovies.net/watch/zGWlBrld-the-legend-of-super-normal-city-kashiwa-r.html', 'https://upmovies.net/watch/LxRjWnxO-kare-baka-wagahai-no-kare-wa-baka-de-r.html', 'https://upmovies.net/watch/zGObERKx-naked-ambition-an-r-rated-look-at-an-x-rated-industry.html', 'https://upmovies.net/watch/zGe0ZPjx-charles-r-the-making-of-a-monarch.html', 'https://upmovies.net/watch/kvYNVaox-sailor-moon-r-the-movie-the-promise-of-the-rose.html', 'https://upmovies.net/watch/qvaqq77v-sailor-moon-r-the-movie-the-promise-of-the-rose-sub.html', 'https://upmovies.net/watch/Xvjyyl9d-sailor-moon-r-the-movie-the-promise-of-the-rose-dub.html', 'https://upmovies.net/watch/kvYNDA3x-swv-xscape-the-queens-of-r-b-season-1.html', 'https://upmovies.net/watch/ox0o7Mqv-sniper-g-r-i-t-global-response-intelligence-team.html', 'https://upmovies.net/watch/oxQ9eogx-r-a-d-a-r-the-adventures-of-the-bionic-dog.html', 'https://upmovies.net/watch/kxz6Z61x-redefined-j-r-smith-season-1.html', 'https://upmovies.net/watch/Ed9EZ1Ad-r-m-n.html', 'https://upmovies.net/watch/wvnZnVPv-pet-e-r-o-toole-along-the-sky-road-to-aqaba.html', 'https://upmovies.net/watch/VdPVyKZx-the-c-r-o-w-d-short-2022.html']\n"
     ]
    }
   ],
   "source": [
    "print(len(my_list))\n",
    "print(my_list )"
   ]
  },
  {
   "cell_type": "code",
   "execution_count": 5,
   "metadata": {},
   "outputs": [
    {
     "name": "stdout",
     "output_type": "stream",
     "text": [
      "URL extracted from poster: themes/movies/img/no_img.gif\n",
      "URL extracted from poster: https://cdn.upmovies.net/j9eYAkp.jpg\n",
      "URL extracted from poster: https://cdn.upmovies.net/Dayswl7.jpg\n",
      "URL extracted from poster: https://cdn.upmovies.net/uoIBWqr.png\n",
      "URL extracted from poster: https://cdn.upmovies.net/q2YjlJI.jpg\n",
      "URL extracted from poster: https://cdn.upmovies.net/MV5BMTY5MzY1MDYxMl5BMl5BanBnXkFtZTgwMjY3OTczNDE@._V1_SX300.jpg\n",
      "URL extracted from poster: https://i.imgur.com/FURirv8.jpg\n",
      "URL extracted from poster: https://cdn.upmovies.net/WJYe2VA.jpg\n",
      "URL extracted from poster: https://cdn.upmovies.net/MV5BYjZkMWU0MzItMTI1OC00ZjdlLWExZDAtMTZjZGI4ZjVkYjZjXkEyXkFqcGdeQXVyNjY5MzU3Mjk@._V1_SX300.jpg\n",
      "URL extracted from poster: https://cdn.upmovies.net/VquJHXo.jpg\n",
      "URL extracted from poster: https://cdn.upmovies.net/pMimOU0.png\n",
      "URL extracted from poster: https://cdn.upmovies.net/Jddva5u.jpg\n",
      "URL extracted from poster: https://cdn.upmovies.net/faTXA4E.jpg\n",
      "URL extracted from poster: https://cdn.upmovies.net/MV5BZDUwOGExNTEtNTU1Ny00ZTgxLTk4ODUtM2Q4NGRmYjdkNWQ2XkEyXkFqcGdeQXVyMTA1OTEwNjE@._V1_FMjpg_UX1000_.jpg\n",
      "URL extracted from poster: https://cdn.upmovies.net/gekij-xf4-ban-bish-xf4-jo-senshi-s-xea-r-xe2-m-xfb-n-r-1993-57124.jpg\n",
      "URL extracted from poster: https://cdn.upmovies.net/MV5BZGE4M2Y2ZDAtZjU5OC00OWI4LWE1NjUtYWE1MjliM2M0M2EyXkEyXkFqcGdeQXVyNDgyODgxNjE@._V1_SX300.jpg\n",
      "URL extracted from poster: https://cdn.upmovies.net/MV5BOTE0NTc1MzE5OV5BMl5BanBnXkFtZTgwNTMyMTgwMzE@._V1_SX300.jpg\n",
      "URL extracted from poster: https://cdn.upmovies.net/MV5BMTQzNDk5NDExMl5BMl5BanBnXkFtZTcwNjAxMTg0Mg@@._V1_SX300.jpg\n",
      "URL extracted from poster: https://cdn.upmovies.net/0i6uvX3.jpg\n",
      "URL extracted from poster: https://cdn.upmovies.net/MV5BZmU5YzE5MGUtODdmNS00OGNlLTllZDEtMTQwOGRiZGRhZjNkXkEyXkFqcGdeQXVyMzM4MjM0Nzg@._V1_SX300.jpg\n",
      "URL extracted from poster: https://cdn.upmovies.net/QRVd7Ao.jpg\n",
      "URL extracted from poster: https://cdn.upmovies.net/QRVd7Ao.jpg\n",
      "URL extracted from poster: https://cdn.upmovies.net/wZBmjOO.jpg\n",
      "URL extracted from poster: https://cdn.upmovies.net/TCMN0DJ.jpg\n",
      "URL extracted from poster: https://cdn.upmovies.net/MV5BNmY4MjQ3ZDItMGI4YS00ODhkLWE4YzEtYzkzNjI2ZTcwMWZiXkEyXkFqcGdeQXVyOTg4MDYyNw@@._V1_SX300.jpg\n",
      "URL extracted from poster: https://cdn.upmovies.net/1rbj8tV.jpg\n",
      "URL extracted from poster: https://cdn.upmovies.net/MV5BN2VkNjg0NjUtNTI5OC00NmQ2LThhMzgtYjA4MGMxYzQ2MGUzXkEyXkFqcGdeQXVyODA0MjgyNzM@._V1_SX300.jpg\n",
      "URL extracted from poster: https://cdn.upmovies.net/MV5BZjRlOWU4MDEtMzYyMS00MDkzLTk0YTUtYzdiMjQ4OWQ2ZWI1XkEyXkFqcGdeQXVyMTYwOTI0NjIw._V1_SX300.jpg\n",
      "URL extracted from poster: https://cdn.upmovies.net/MV5BMjgzOGEwNjQtYTIwMy00MGQ5LTliNjItODE0MjRmNjg2NjBhXkEyXkFqcGdeQXVyNjU2ODA4MTg@._V1_SX300.jpg\n"
     ]
    }
   ],
   "source": [
    "# Initialize WebDriver\n",
    "driver = webdriver.Chrome(chrome_driver_path)\n",
    "Title_list = []\n",
    "poster_list = []\n",
    "for link in my_list:\n",
    "    driver.get(link)\n",
    "    sleep(10)\n",
    "\n",
    "    details_cards = driver.find_elements_by_xpath(\n",
    "        '//div[@class=\"film-detail-right\"]')\n",
    "\n",
    "    for d_card in details_cards:\n",
    "        elementHTML = d_card.get_attribute('outerHTML')\n",
    "        elementsoup = BeautifulSoup(elementHTML, 'html5lib')\n",
    "        details = elementsoup.find('div', class_='poster')\n",
    "\n",
    "        # If the div is found, extract the src attribute from the iframe\n",
    "        if details:\n",
    "            my_poster = details.find('img').get('src')\n",
    "            print(\"URL extracted from poster:\", my_poster)\n",
    "        else:\n",
    "            print(\"No poster found.\")\n",
    "        tit = elementsoup.find('div', class_= 'about') \n",
    "        my_title = tit.find('h1').text\n",
    "        Title_list.append(my_title)\n",
    "\n",
    "        \n",
    "\n",
    "\n"
   ]
  },
  {
   "cell_type": "code",
   "execution_count": 6,
   "metadata": {},
   "outputs": [
    {
     "name": "stdout",
     "output_type": "stream",
     "text": [
      "['Elizabeth R: Season 1', 'Why R U? (2023)', 'Why R U', 'Weiss Survive R', 'Weiß Survive R', 'Zero Woman R', 'Saber Marionette R', 'Sailor Moon R', 'Nurse Witch Komugi-chan R', 'Kindaichi Case Files R', 'Sailor Moon R (dub)', 'Kindaichi Case Files R S2', 'Chou Futsuu Toshi Kashiwa Densetsu R', 'Butt Attack Punisher Girl Gautaman R', 'Gekijô-ban - Bishôjo Senshi Sêrâ Mûn R', 'The Legend Of Super Normal City Kashiwa R', 'Kare Baka: Wagahai No Kare Wa Baka De R', 'Naked Ambition: An R Rated Look At An X Rated Industry', 'Charles R: The Making Of A Monarch', 'Sailor Moon R: The Movie: The Promise Of The Rose', 'Sailor Moon R: The Movie - The Promise Of The Rose (sub)', 'Sailor Moon R: The Movie - The Promise Of The Rose (dub)', 'Swv & Xscape: The Queens Of R&b: Season 1', 'Sniper: G.R.I.T. - Global Response & Intelligence Team', 'R.A.D.A.R.: The Adventures Of The Bionic Dog', 'Redefined: J.r. Smith: Season 1', 'R.m.n.', \"Pet.e.r O'toole: Along The Sky Road To Aqaba\", 'The C.r.o.w.d (short 2022)']\n"
     ]
    }
   ],
   "source": [
    "print(Title_list)"
   ]
  },
  {
   "cell_type": "code",
   "execution_count": 7,
   "metadata": {},
   "outputs": [
    {
     "name": "stdout",
     "output_type": "stream",
     "text": [
      "A = Genres: Short, Sci-Fi\n",
      "B = Country: United Kingdom\n",
      "C = Director: Liam Abbott\n",
      "D = Duration: 5 min\n",
      "E = Year: 2022\n",
      "F = Actors: Hannah Brackstone-Brown, Lanre Danmola, James Glyn\n"
     ]
    }
   ],
   "source": [
    "labels = tit.find_all('li', class_='label')\n",
    "A, B, C, D, E, F = None, None, None, None, None, None\n",
    "for index, label in enumerate(labels):\n",
    "    label_text = label.text.strip()  # Get the text content of the list item\n",
    "    if label_text.startswith('Genres'):\n",
    "        A = label_text\n",
    "    elif label_text.startswith('Country'):\n",
    "        B = label_text\n",
    "    elif label_text.startswith('Director'):\n",
    "        C = label_text\n",
    "    elif label_text.startswith('Duration'):\n",
    "        D = label_text\n",
    "    elif label_text.startswith('Year'):\n",
    "        E = label_text\n",
    "    elif label_text.startswith('Actors'):\n",
    "        F = label_text\n",
    "\n",
    "print(\"A =\", A)\n",
    "print(\"B =\", B)\n",
    "print(\"C =\", C)\n",
    "print(\"D =\", D)\n",
    "print(\"E =\", E)\n",
    "print(\"F =\", F)\n",
    "    "
   ]
  },
  {
   "cell_type": "markdown",
   "metadata": {},
   "source": [
    "GET THE IFRAME FROM ALL MOVIES(NOT EPISODES)"
   ]
  },
  {
   "cell_type": "code",
   "execution_count": 8,
   "metadata": {},
   "outputs": [
    {
     "name": "stdout",
     "output_type": "stream",
     "text": [
      "URL extracted from iframe: https://eplayvid.net/watch/b0319054b15856a\n",
      "URL extracted from iframe: https://eplayvid.net/watch/05368073217bba0\n",
      "URL extracted from iframe: https://eplayvid.net/watch/46b1df687fe5077\n",
      "URL extracted from iframe: https://eplayvid.net/watch/86140605ac30ba3\n",
      "URL extracted from iframe: https://eplayvid.net/watch/6de97d34b56e843\n",
      "URL extracted from iframe: https://eplayvid.net/watch/35badc47a2d6fc2\n",
      "URL extracted from iframe: https://eplayvid.net/watch/8ee777cb89a7fc9\n",
      "URL extracted from iframe: https://eplayvid.net/watch/c145e7f4ff8b9a4\n",
      "URL extracted from iframe: https://eplayvid.net/watch/04763344463fb77\n",
      "URL extracted from iframe: https://eplayvid.net/watch/b905f031012275c\n",
      "URL extracted from iframe: https://eplayvid.net/watch/7a45aed06ae8995\n",
      "URL extracted from iframe: https://eplayvid.net/watch/23859fe2ec75b95\n",
      "URL extracted from iframe: https://eplayvid.net/watch/cc90f766b4c608c\n",
      "URL extracted from iframe: https://mixdrop21.net/e/xopgr63mull0g40\n",
      "URL extracted from iframe: https://eplayvid.net/watch/5ff90e95328a33d\n",
      "URL extracted from iframe: https://eplayvid.net/watch/7de2c653a7b0ee9\n",
      "URL extracted from iframe: https://eplayvid.net/watch/a37ee384f5316d0\n",
      "URL extracted from iframe: https://eplayvid.net/watch/1f092b84d850d4a\n",
      "URL extracted from iframe: https://eplayvid.net/watch/e84122c3a125616\n",
      "URL extracted from iframe: https://eplayvid.net/watch/de32204bb7e4171\n",
      "URL extracted from iframe: https://eplayvid.net/watch/b64dbff8c934f4b\n",
      "URL extracted from iframe: https://eplayvid.net/watch/de34d2fb0f6affc\n",
      "URL extracted from iframe: https://eplayvid.net/watch/2fc8064a6646003\n",
      "URL extracted from iframe: https://eplayvid.net/watch/e8aa9124ed41159\n",
      "URL extracted from iframe: https://eplayvid.net/watch/eab5866ab6e69ce\n",
      "URL extracted from iframe: https://eplayvid.net/watch/f47df1fa4c13754\n",
      "URL extracted from iframe: https://eplayvid.net/watch/6f1832407917226\n",
      "URL extracted from iframe: https://eplayvid.net/watch/d62679583ccaad5\n",
      "URL extracted from iframe: https://eplayvid.net/watch/6d5d5fd224468a9\n"
     ]
    }
   ],
   "source": [
    "# Initialize WebDriver\n",
    "driver = webdriver.Chrome(chrome_driver_path)\n",
    "\n",
    "for link in my_list:\n",
    "    driver.get(link)\n",
    "    sleep(10)\n",
    "\n",
    "    indeed_cards = driver.find_elements_by_xpath(\n",
    "        '//div[@class=\"player-iframe animation\"]')\n",
    "\n",
    "    for card in indeed_cards:\n",
    "        elementHTML = card.get_attribute('outerHTML')\n",
    "        elementsoup = BeautifulSoup(elementHTML, 'html5lib')\n",
    "        player_iframe = elementsoup.find('div', class_='player-iframe animation')\n",
    "\n",
    "        # If the div is found, extract the src attribute from the iframe\n",
    "        if player_iframe:\n",
    "            iframe_src = player_iframe.find('iframe').get('src')\n",
    "            print(\"URL extracted from iframe:\", iframe_src)\n",
    "        else:\n",
    "            print(\"No player iframe found.\")\n"
   ]
  },
  {
   "cell_type": "code",
   "execution_count": 9,
   "metadata": {},
   "outputs": [
    {
     "name": "stdout",
     "output_type": "stream",
     "text": [
      "['https://upmovies.net/watch/yd6P1Rx7-elizabeth-r-season-1.html', 'https://upmovies.net/watch/Ovkr79Vd-why-r-u-2023.html', 'https://upmovies.net/watch/Ovkrpbpd-why-r-u.html', 'https://upmovies.net/watch/zGWeOPvP-weiss-survive-r.html', 'https://upmovies.net/watch/wvnPjjGQ-weiß-survive-r.html', 'https://upmovies.net/watch/QvM5ypv2-zero-woman-r.html', 'https://upmovies.net/watch/oxQZAyGn-saber-marionette-r.html', 'https://upmovies.net/watch/yGDO5wx6-sailor-moon-r.html', 'https://upmovies.net/watch/gdV8r0xD-nurse-witch-komugi-chan-r.html', 'https://upmovies.net/watch/yGDMgNd6-kindaichi-case-files-r.html', 'https://upmovies.net/watch/Nx4joodz-sailor-moon-r-dub.html', 'https://upmovies.net/watch/zGW35LGP-kindaichi-case-files-r-s2.html', 'https://upmovies.net/watch/wvnZArrv-chou-futsuu-toshi-kashiwa-densetsu-r.html', 'https://upmovies.net/watch/qvoVr0od-butt-attack-punisher-girl-gautaman-r.html', 'https://upmovies.net/watch/zGeOazvb-gekijo-ban-bishojo-senshi-sera-mûn-r.html', 'https://upmovies.net/watch/zGWlBrld-the-legend-of-super-normal-city-kashiwa-r.html', 'https://upmovies.net/watch/LxRjWnxO-kare-baka-wagahai-no-kare-wa-baka-de-r.html', 'https://upmovies.net/watch/zGObERKx-naked-ambition-an-r-rated-look-at-an-x-rated-industry.html', 'https://upmovies.net/watch/zGe0ZPjx-charles-r-the-making-of-a-monarch.html', 'https://upmovies.net/watch/kvYNVaox-sailor-moon-r-the-movie-the-promise-of-the-rose.html', 'https://upmovies.net/watch/qvaqq77v-sailor-moon-r-the-movie-the-promise-of-the-rose-sub.html', 'https://upmovies.net/watch/Xvjyyl9d-sailor-moon-r-the-movie-the-promise-of-the-rose-dub.html', 'https://upmovies.net/watch/kvYNDA3x-swv-xscape-the-queens-of-r-b-season-1.html', 'https://upmovies.net/watch/ox0o7Mqv-sniper-g-r-i-t-global-response-intelligence-team.html', 'https://upmovies.net/watch/oxQ9eogx-r-a-d-a-r-the-adventures-of-the-bionic-dog.html', 'https://upmovies.net/watch/kxz6Z61x-redefined-j-r-smith-season-1.html', 'https://upmovies.net/watch/Ed9EZ1Ad-r-m-n.html', 'https://upmovies.net/watch/wvnZnVPv-pet-e-r-o-toole-along-the-sky-road-to-aqaba.html', 'https://upmovies.net/watch/VdPVyKZx-the-c-r-o-w-d-short-2022.html']\n"
     ]
    }
   ],
   "source": [
    "print(my_list)"
   ]
  },
  {
   "cell_type": "markdown",
   "metadata": {},
   "source": [
    "GET THE LINK OF THE EPISODES(ONLY FOR SEASONS)"
   ]
  },
  {
   "cell_type": "code",
   "execution_count": 10,
   "metadata": {},
   "outputs": [
    {
     "name": "stdout",
     "output_type": "stream",
     "text": [
      "['https://upmovies.net/watch/G39lAwWv-elizabeth-r-season-1/episode-2.html', 'https://upmovies.net/watch/GbgyJq4d-elizabeth-r-season-1/episode-3.html', 'https://upmovies.net/watch/voVEor8d-elizabeth-r-season-1/episode-4.html', 'https://upmovies.net/watch/d9EXmJnd-elizabeth-r-season-1/episode-5.html', 'https://upmovies.net/watch/xRly0gpd-elizabeth-r-season-1/episode-6.html', 'https://upmovies.net/watch/dBlrVgqx-why-r-u-2023/episode-2.html', 'https://upmovies.net/watch/GLmkZYMd-why-r-u-2023/episode-3.html', 'https://upmovies.net/watch/x29kXzjv-why-r-u-2023/episode-4.html', 'https://upmovies.net/watch/vX1BDoVx-why-r-u-2023/episode-5.html', 'https://upmovies.net/watch/vkQr1BVG-why-r-u-2023/episode-6.html', 'https://upmovies.net/watch/xQnM6JyG-why-r-u-2023/episode-7.html', 'https://upmovies.net/watch/dVRlJepd-why-r-u-2023/episode-8.html', 'https://upmovies.net/watch/xR1wLoov-why-r-u/episode-2.html', 'https://upmovies.net/watch/d7LEo3zv-why-r-u/episode-3.html', 'https://upmovies.net/watch/dBwmKA9v-why-r-u/episode-4.html', 'https://upmovies.net/watch/GpZ3nL6v-why-r-u/episode-5.html', 'https://upmovies.net/watch/GpZ37MWv-why-r-u/episode-6.html', 'https://upmovies.net/watch/vX9L5AKx-why-r-u/episode-7.html', 'https://upmovies.net/watch/vk2yOJJd-why-r-u/episode-8.html', 'https://upmovies.net/watch/x5LY3NEv-why-r-u/episode-9.html', 'https://upmovies.net/watch/dZzqnEXd-why-r-u/episode-10.html', 'https://upmovies.net/watch/d69e0NRG-why-r-u/episode-11.html', 'https://upmovies.net/watch/vneqoPrd-why-r-u/episode-12.html', 'https://upmovies.net/watch/GE2z4AEd-weiss-survive-r/episode-2.html', 'https://upmovies.net/watch/vNaP4g0d-weiss-survive-r/episode-3.html', 'https://upmovies.net/watch/dPVa4rZx-weiss-survive-r/episode-4.html', 'https://upmovies.net/watch/v8zO4V9G-weiss-survive-r/episode-5.html', 'https://upmovies.net/watch/x0o4EJ5v-weiss-survive-r/episode-6.html', 'https://upmovies.net/watch/xww4pN8x-weiss-survive-r/episode-7.html', 'https://upmovies.net/watch/vYN9DoXx-weiss-survive-r/episode-8.html', 'https://upmovies.net/watch/xqpMmN4v-weiss-survive-r/episode-9.html', 'https://upmovies.net/watch/x4lramOx-weiss-survive-r/episode-10.html', 'https://upmovies.net/watch/vjy7OJ2d-weiss-survive-r/episode-11.html', 'https://upmovies.net/watch/vaqWLkkv-weiss-survive-r/episode-12.html', 'https://upmovies.net/watch/dPVpO5nx-weiß-survive-r/episode-2.html', 'https://upmovies.net/watch/v8zBwgAG-weiß-survive-r/episode-3.html', 'https://upmovies.net/watch/x0oyazwv-weiß-survive-r/episode-4.html', 'https://upmovies.net/watch/xwwLRo7x-weiß-survive-r/episode-5.html', 'https://upmovies.net/watch/vYNLO10x-weiß-survive-r/episode-6.html', 'https://upmovies.net/watch/xqpgVWAv-weiß-survive-r/episode-7.html', 'https://upmovies.net/watch/x4lR0OKx-weiß-survive-r/episode-8.html', 'https://upmovies.net/watch/vjynk26d-weiß-survive-r/episode-9.html', 'https://upmovies.net/watch/vaqAbDqv-weiß-survive-r/episode-10.html', 'https://upmovies.net/watch/x1bm0e4G-weiß-survive-r/episode-11.html', 'https://upmovies.net/watch/Ge0k79Mx-weiß-survive-r/episode-12.html', 'https://upmovies.net/watch/vXB54E9G-saber-marionette-r/episode-2.html', 'https://upmovies.net/watch/vkrONPQd-saber-marionette-r/episode-3.html', 'https://upmovies.net/watch/vMpW3Wwd-sailor-moon-r/episode-2.html', 'https://upmovies.net/watch/vlYgJgNx-sailor-moon-r/episode-3.html', 'https://upmovies.net/watch/GE2ynyzd-sailor-moon-r/episode-4.html', 'https://upmovies.net/watch/vNaQbQLd-sailor-moon-r/episode-5.html', 'https://upmovies.net/watch/dPVD9D8x-sailor-moon-r/episode-6.html', 'https://upmovies.net/watch/v8zDoDnG-sailor-moon-r/episode-7.html', 'https://upmovies.net/watch/x0o858av-sailor-moon-r/episode-8.html', 'https://upmovies.net/watch/xwwrWrjx-sailor-moon-r/episode-9.html', 'https://upmovies.net/watch/vYN2z2Zx-sailor-moon-r/episode-10.html', 'https://upmovies.net/watch/xqprJrOv-sailor-moon-r/episode-11.html', 'https://upmovies.net/watch/x4lpVpVx-sailor-moon-r/episode-12.html', 'https://upmovies.net/watch/vjygMgPd-sailor-moon-r/episode-13.html', 'https://upmovies.net/watch/vaq2J2ev-sailor-moon-r/episode-14.html', 'https://upmovies.net/watch/x1bEpEBG-sailor-moon-r/episode-15.html', 'https://upmovies.net/watch/Ge0gJg8x-sailor-moon-r/episode-16.html', 'https://upmovies.net/watch/GpDqJq6G-sailor-moon-r/episode-17.html', 'https://upmovies.net/watch/GWlBkB3d-sailor-moon-r/episode-18.html', 'https://upmovies.net/watch/xQD3R3ov-sailor-moon-r/episode-19.html', 'https://upmovies.net/watch/dVV7X7kd-sailor-moon-r/episode-20.html', 'https://upmovies.net/watch/GDay6yOd-sailor-moon-r/episode-21.html', 'https://upmovies.net/watch/G39EQEjv-sailor-moon-r/episode-22.html', 'https://upmovies.net/watch/GbgKlK2d-sailor-moon-r/episode-23.html', 'https://upmovies.net/watch/voVgJged-sailor-moon-r/episode-24.html', 'https://upmovies.net/watch/d9E393ld-sailor-moon-r/episode-25.html', 'https://upmovies.net/watch/xRlb7b5d-sailor-moon-r/episode-26.html', 'https://upmovies.net/watch/d7lVbVkv-sailor-moon-r/episode-27.html', 'https://upmovies.net/watch/dBrEzEkd-sailor-moon-r/episode-28.html', 'https://upmovies.net/watch/GpDqJqVG-sailor-moon-r/episode-29.html', 'https://upmovies.net/watch/GWlBkBPd-sailor-moon-r/episode-30.html', 'https://upmovies.net/watch/xQD3R3yv-sailor-moon-r/episode-31.html', 'https://upmovies.net/watch/dVV7X7pd-sailor-moon-r/episode-32.html', 'https://upmovies.net/watch/GDay6P1d-sailor-moon-r/episode-33.html', 'https://upmovies.net/watch/G39EQK9v-sailor-moon-r/episode-34.html', 'https://upmovies.net/watch/GbgKl7Dd-sailor-moon-r/episode-35.html', 'https://upmovies.net/watch/voVgJ73d-sailor-moon-r/episode-36.html', 'https://upmovies.net/watch/d9E39Kad-sailor-moon-r/episode-37.html', 'https://upmovies.net/watch/xRlb7Xyd-sailor-moon-r/episode-38.html', 'https://upmovies.net/watch/d7lVbw1v-sailor-moon-r/episode-39.html', 'https://upmovies.net/watch/dBrEzPmd-sailor-moon-r/episode-40.html', 'https://upmovies.net/watch/GLkpDP6x-sailor-moon-r/episode-41.html', 'https://upmovies.net/watch/x2kEWK5G-sailor-moon-r/episode-42.html', 'https://upmovies.net/watch/vXBlApNG-sailor-moon-r/episode-43.html', 'https://upmovies.net/watch/vaqOO8ev-nurse-witch-komugi-chan-r/episode-2.html', 'https://upmovies.net/watch/x1baa5BG-nurse-witch-komugi-chan-r/episode-3.html', 'https://upmovies.net/watch/Ge0OOQ8x-nurse-witch-komugi-chan-r/episode-4.html', 'https://upmovies.net/watch/GpDww26G-nurse-witch-komugi-chan-r/episode-5.html', 'https://upmovies.net/watch/GWlVVJ3d-nurse-witch-komugi-chan-r/episode-6.html', 'https://upmovies.net/watch/xQD22Kov-nurse-witch-komugi-chan-r/episode-7.html', 'https://upmovies.net/watch/dVVQQZkd-nurse-witch-komugi-chan-r/episode-8.html', 'https://upmovies.net/watch/GDall3Od-nurse-witch-komugi-chan-r/episode-9.html', 'https://upmovies.net/watch/G39PPJjv-nurse-witch-komugi-chan-r/episode-10.html', 'https://upmovies.net/watch/GbgOO02d-nurse-witch-komugi-chan-r/episode-11.html', 'https://upmovies.net/watch/voVwwLed-nurse-witch-komugi-chan-r/episode-12.html', 'https://upmovies.net/watch/dVV7zpqd-kindaichi-case-files-r/episode-2.html', 'https://upmovies.net/watch/GDay4oyd-kindaichi-case-files-r/episode-3.html', 'https://upmovies.net/watch/G39E5AKv-kindaichi-case-files-r/episode-4.html', 'https://upmovies.net/watch/GbgKMJqd-kindaichi-case-files-r/episode-5.html', 'https://upmovies.net/watch/voVgQoMd-kindaichi-case-files-r/episode-6.html', 'https://upmovies.net/watch/d9E3emgd-kindaichi-case-files-r/episode-7.html', 'https://upmovies.net/watch/xRlb20Yd-kindaichi-case-files-r/episode-8.html', 'https://upmovies.net/watch/d7lVyJnv-kindaichi-case-files-r/episode-9.html', 'https://upmovies.net/watch/dBrEYVMd-kindaichi-case-files-r/episode-10.html', 'https://upmovies.net/watch/GLkpoZ0x-kindaichi-case-files-r/episode-11.html', 'https://upmovies.net/watch/x2kEOXnG-kindaichi-case-files-r/episode-12.html', 'https://upmovies.net/watch/vXBl6DKG-kindaichi-case-files-r/episode-13.html', 'https://upmovies.net/watch/vkrjq1Jd-kindaichi-case-files-r/episode-14.html', 'https://upmovies.net/watch/dArywWNv-kindaichi-case-files-r/episode-15.html', 'https://upmovies.net/watch/xz6P2M5x-kindaichi-case-files-r/episode-16.html', 'https://upmovies.net/watch/dKoybOBd-kindaichi-case-files-r/episode-17.html', 'https://upmovies.net/watch/d6LQg5Zx-kindaichi-case-files-r/episode-18.html', 'https://upmovies.net/watch/vnZrW3zv-kindaichi-case-files-r/episode-19.html', 'https://upmovies.net/watch/GObV7Myx-kindaichi-case-files-r/episode-20.html', 'https://upmovies.net/watch/x5zWJnRG-kindaichi-case-files-r/episode-21.html', 'https://upmovies.net/watch/dZY2O96G-kindaichi-case-files-r/episode-22.html', 'https://upmovies.net/watch/vJYy36rd-kindaichi-case-files-r/episode-23.html', 'https://upmovies.net/watch/GgYqe8av-kindaichi-case-files-r/episode-24.html', 'https://upmovies.net/watch/xyPeLrQv-kindaichi-case-files-r/episode-25.html', 'https://upmovies.net/watch/GObaMA5x-sailor-moon-r-dub/episode-42.html', 'https://upmovies.net/watch/x5zPnyeG-sailor-moon-r-dub/episode-43.html', 'https://upmovies.net/watch/dZY59r1G-sailor-moon-r-dub/episode-44.html', 'https://upmovies.net/watch/vJY26B0d-sailor-moon-r-dub/episode-45.html', 'https://upmovies.net/watch/GgYr8Dmv-sailor-moon-r-dub/episode-46.html', 'https://upmovies.net/watch/xyPDr5ov-sailor-moon-r-dub/episode-47.html', 'https://upmovies.net/watch/dr9K2kyG-sailor-moon-r-dub/episode-48.html', 'https://upmovies.net/watch/dmZyV7Pv-sailor-moon-r-dub/episode-49.html', 'https://upmovies.net/watch/vMpegXQd-sailor-moon-r-dub/episode-50.html', 'https://upmovies.net/watch/vlYNWRjx-sailor-moon-r-dub/episode-51.html', 'https://upmovies.net/watch/GE29RbBd-sailor-moon-r-dub/episode-52.html', 'https://upmovies.net/watch/vNaMrk2d-sailor-moon-r-dub/episode-53.html', 'https://upmovies.net/watch/dPV1Ezrx-sailor-moon-r-dub/episode-54.html', 'https://upmovies.net/watch/v8zJyMLG-sailor-moon-r-dub/episode-55.html', 'https://upmovies.net/watch/x0oM7Oqv-sailor-moon-r-dub/episode-56.html', 'https://upmovies.net/watch/xwwQZn9x-sailor-moon-r-dub/episode-57.html', 'https://upmovies.net/watch/vYNabyrx-sailor-moon-r-dub/episode-58.html', 'https://upmovies.net/watch/xqpyBXmv-sailor-moon-r-dub/episode-59.html', 'https://upmovies.net/watch/x4lJKgex-sailor-moon-r-dub/episode-60.html', 'https://upmovies.net/watch/vjyKjood-sailor-moon-r-dub/episode-61.html', 'https://upmovies.net/watch/vaqn581v-sailor-moon-r-dub/episode-62.html', 'https://upmovies.net/watch/x1bML5RG-sailor-moon-r-dub/episode-63.html', 'https://upmovies.net/watch/Ge0nlQBx-sailor-moon-r-dub/episode-64.html', 'https://upmovies.net/watch/GpDKR2VG-sailor-moon-r-dub/episode-65.html', 'https://upmovies.net/watch/GWlaQJPd-sailor-moon-r-dub/episode-66.html', 'https://upmovies.net/watch/xQDgPKyv-sailor-moon-r-dub/episode-67.html', 'https://upmovies.net/watch/dVVgpZpd-sailor-moon-r-dub/episode-68.html', 'https://upmovies.net/watch/GDaeo91d-sailor-moon-r-dub/episode-69.html', 'https://upmovies.net/watch/G39wAm9v-sailor-moon-r-dub/episode-70.html', 'https://upmovies.net/watch/GbgqJ1Dd-sailor-moon-r-dub/episode-71.html', 'https://upmovies.net/watch/voVro13d-sailor-moon-r-dub/episode-72.html', 'https://upmovies.net/watch/d9EJm8ad-sailor-moon-r-dub/episode-73.html', 'https://upmovies.net/watch/xRlg05yd-sailor-moon-r-dub/episode-74.html', 'https://upmovies.net/watch/d7lrJN1v-sailor-moon-r-dub/episode-75.html', 'https://upmovies.net/watch/dBr3Vbmd-sailor-moon-r-dub/episode-76.html', 'https://upmovies.net/watch/GLk8ZA6x-sailor-moon-r-dub/episode-77.html', 'https://upmovies.net/watch/x2kJXr5G-sailor-moon-r-dub/episode-78.html', 'https://upmovies.net/watch/vXBwDmNG-sailor-moon-r-dub/episode-79.html', 'https://upmovies.net/watch/vkrn1eZd-sailor-moon-r-dub/episode-80.html', 'https://upmovies.net/watch/dArDW3yv-sailor-moon-r-dub/episode-81.html', 'https://upmovies.net/watch/xz63M1Ax-sailor-moon-r-dub/episode-82.html', 'https://upmovies.net/watch/Ge0Okwyx-kindaichi-case-files-r-s2/episode-2.html', 'https://upmovies.net/watch/GpDwgygG-kindaichi-case-files-r-s2/episode-3.html', 'https://upmovies.net/watch/GWlVo1Vd-kindaichi-case-files-r-s2/episode-4.html', 'https://upmovies.net/watch/xQD2WNNv-kindaichi-case-files-r-s2/episode-5.html', 'https://upmovies.net/watch/dVVQbaqd-kindaichi-case-files-r-s2/episode-6.html', 'https://upmovies.net/watch/GDalLRyd-kindaichi-case-files-r-s2/episode-7.html', 'https://upmovies.net/watch/G39PRyKv-kindaichi-case-files-r-s2/episode-8.html', 'https://upmovies.net/watch/GbgOkzqd-kindaichi-case-files-r-s2/episode-9.html', 'https://upmovies.net/watch/voVwznMd-kindaichi-case-files-r-s2/episode-10.html', 'https://upmovies.net/watch/d9EpBwgd-kindaichi-case-files-r-s2/episode-11.html', 'https://upmovies.net/watch/xRlPQNYd-kindaichi-case-files-r-s2/episode-12.html', 'https://upmovies.net/watch/d7l5R2nv-kindaichi-case-files-r-s2/episode-13.html', 'https://upmovies.net/watch/dBrOaoMd-kindaichi-case-files-r-s2/episode-14.html', 'https://upmovies.net/watch/GpDwgyjG-kindaichi-case-files-r-s2/episode-15.html', 'https://upmovies.net/watch/GWlVo1yd-kindaichi-case-files-r-s2/episode-16.html', 'https://upmovies.net/watch/xQD2WNBv-kindaichi-case-files-r-s2/episode-17.html', 'https://upmovies.net/watch/dVVQbaXd-kindaichi-case-files-r-s2/episode-18.html', 'https://upmovies.net/watch/GDalLRNd-kindaichi-case-files-r-s2/episode-19.html', 'https://upmovies.net/watch/G39PRyWv-kindaichi-case-files-r-s2/episode-20.html', 'https://upmovies.net/watch/GbgOkz4d-kindaichi-case-files-r-s2/episode-21.html', 'https://upmovies.net/watch/voVwzn8d-kindaichi-case-files-r-s2/episode-22.html', 'https://upmovies.net/watch/xq9YZWqx-chou-futsuu-toshi-kashiwa-densetsu-r/episode-2.html', 'https://upmovies.net/watch/x4EoWOqG-chou-futsuu-toshi-kashiwa-densetsu-r/episode-3.html', 'https://upmovies.net/watch/x5LKojEv-the-legend-of-super-normal-city-kashiwa-r/episode-2.html', 'https://upmovies.net/watch/dZzQo0Xd-the-legend-of-super-normal-city-kashiwa-r/episode-3.html', 'https://upmovies.net/watch/vJzPgeyv-the-legend-of-super-normal-city-kashiwa-r/episode-4.html', 'https://upmovies.net/watch/GgZQybQx-the-legend-of-super-normal-city-kashiwa-r/episode-5.html', 'https://upmovies.net/watch/xyXAbJDv-the-legend-of-super-normal-city-kashiwa-r/episode-6.html', 'https://upmovies.net/watch/drbARz8d-the-legend-of-super-normal-city-kashiwa-r/episode-7.html', 'https://upmovies.net/watch/dmD9eLBG-the-legend-of-super-normal-city-kashiwa-r/episode-8.html', 'https://upmovies.net/watch/vMqwm51v-the-legend-of-super-normal-city-kashiwa-r/episode-9.html', 'https://upmovies.net/watch/vlVoQB3G-the-legend-of-super-normal-city-kashiwa-r/episode-10.html', 'https://upmovies.net/watch/xz6Oq1Ax-kare-baka-wagahai-no-kare-wa-baka-de-r/episode-2.html', 'https://upmovies.net/watch/dKoRBkgd-kare-baka-wagahai-no-kare-wa-baka-de-r/episode-3.html', 'https://upmovies.net/watch/d6LPAEOx-kare-baka-wagahai-no-kare-wa-baka-de-r/episode-4.html', 'https://upmovies.net/watch/vnZL41Lv-kare-baka-wagahai-no-kare-wa-baka-de-r/episode-5.html', 'https://upmovies.net/watch/GOb2k65x-kare-baka-wagahai-no-kare-wa-baka-de-r/episode-6.html', 'https://upmovies.net/watch/x5zgkleG-kare-baka-wagahai-no-kare-wa-baka-de-r/episode-7.html', 'https://upmovies.net/watch/dZYM4l1G-kare-baka-wagahai-no-kare-wa-baka-de-r/episode-8.html', 'https://upmovies.net/watch/dZz0nn9d-swv-xscape-the-queens-of-r-b-season-1/episode-2.html', 'https://upmovies.net/watch/vMq5lDzv-swv-xscape-the-queens-of-r-b-season-1/episode-3.html', 'https://upmovies.net/watch/dVnE9Jed-swv-xscape-the-queens-of-r-b-season-1/episode-4.html', 'https://upmovies.net/watch/vlVWVEVG-swv-xscape-the-queens-of-r-b-season-1/episode-5.html', 'https://upmovies.net/watch/vjej506d-swv-xscape-the-queens-of-r-b-season-1/episode-6.html', 'https://upmovies.net/watch/vMqgq1mv-redefined-j-r-smith-season-1/episode-2.html', 'https://upmovies.net/watch/vlVWVqXG-redefined-j-r-smith-season-1/episode-3.html', 'https://upmovies.net/watch/GEWRWlmv-redefined-j-r-smith-season-1/episode-4.html']\n"
     ]
    }
   ],
   "source": [
    "from selenium import webdriver\n",
    "from time import sleep\n",
    "from bs4 import BeautifulSoup\n",
    "\n",
    "# Initialize WebDriver\n",
    "driver = webdriver.Chrome(chrome_driver_path)\n",
    "season_list = []\n",
    "\n",
    "for season_link in my_list:\n",
    "    driver.get(season_link)\n",
    "    sleep(10)\n",
    "\n",
    "    # Find the div with class \"section-box\"\n",
    "    season_card = driver.find_element_by_xpath('//div[@class=\"section-box\"]')\n",
    "\n",
    "    # Get the outerHTML of the div\n",
    "    seasonHTML = season_card.get_attribute('outerHTML')\n",
    "    seasonsoup = BeautifulSoup(seasonHTML, 'html5lib')\n",
    "\n",
    "    # Find all <a> tags with class \"episode_series_link\"\n",
    "    season_a = seasonsoup.find_all('a', class_='episode episode_series_link esp-circle', href=True)\n",
    "\n",
    "    # Extract the href attribute from each <a> tag and store in episode_list\n",
    "    for linkss in season_a:\n",
    "        season_link = linkss['href']\n",
    "        season_list.append(season_link)\n",
    "\n",
    "# Close the WebDriver after scraping all season links\n",
    "driver.quit()\n",
    "\n",
    "# Print the list of all season links\n",
    "print(season_list)\n"
   ]
  },
  {
   "cell_type": "markdown",
   "metadata": {},
   "source": [
    "GETTING THE IFRAME OF EPISODES"
   ]
  },
  {
   "cell_type": "code",
   "execution_count": 11,
   "metadata": {},
   "outputs": [
    {
     "name": "stdout",
     "output_type": "stream",
     "text": [
      "URL extracted from iframe: https://eplayvid.net/watch/e5a91d36243e020\n",
      "URL extracted from iframe: https://eplayvid.net/watch/3534ca6fac09b4d\n",
      "URL extracted from iframe: https://eplayvid.net/watch/5e40f8795b771cd\n",
      "URL extracted from iframe: https://eplayvid.net/watch/2e3b9442fbcfe16\n",
      "URL extracted from iframe: https://eplayvid.net/watch/3d30d768db07b38\n",
      "URL extracted from iframe: https://eplayvid.net/watch/408460281a025b3\n",
      "URL extracted from iframe: https://eplayvid.net/watch/dcd4717f7c8013d\n",
      "URL extracted from iframe: https://eplayvid.net/watch/eca09be36dbabdc\n",
      "URL extracted from iframe: https://eplayvid.net/watch/d074818111bfaa6\n",
      "URL extracted from iframe: https://eplayvid.net/watch/af8cb3ff4dfc84a\n",
      "URL extracted from iframe: https://eplayvid.net/watch/65f6c0c9683720e\n",
      "URL extracted from iframe: https://eplayvid.net/watch/d836870930fdf9a\n",
      "URL extracted from iframe: https://eplayvid.net/watch/f5c4f7ccd07b00b\n",
      "URL extracted from iframe: https://eplayvid.net/watch/8eee9ba15d59f3c\n",
      "URL extracted from iframe: https://eplayvid.net/watch/891d3d919bf0238\n",
      "URL extracted from iframe: https://eplayvid.net/watch/4c522ea20f5bbd8\n",
      "URL extracted from iframe: https://eplayvid.net/watch/880eeb2239b58f6\n",
      "URL extracted from iframe: https://eplayvid.net/watch/f978594ad25699e\n",
      "URL extracted from iframe: https://eplayvid.net/watch/6413225226d9cbf\n",
      "URL extracted from iframe: https://eplayvid.net/watch/748dc8f0a0a65b4\n",
      "URL extracted from iframe: https://eplayvid.net/watch/999c8e85c2c7330\n",
      "URL extracted from iframe: https://eplayvid.net/watch/3577a1f2bbec944\n",
      "URL extracted from iframe: https://eplayvid.net/watch/44ccad71f2e5adf\n",
      "URL extracted from iframe: https://eplayvid.net/watch/c6229ca5b0690c7\n",
      "URL extracted from iframe: https://eplayvid.net/watch/d44a810686f479a\n",
      "URL extracted from iframe: https://eplayvid.net/watch/e26a34dca201a8a\n",
      "URL extracted from iframe: https://eplayvid.net/watch/bcb69bdd51f854f\n",
      "URL extracted from iframe: https://eplayvid.net/watch/a8b2919afe8a47d\n",
      "URL extracted from iframe: https://eplayvid.net/watch/611010d8a6a8a00\n",
      "URL extracted from iframe: https://eplayvid.net/watch/f5248a5fce250c8\n",
      "URL extracted from iframe: https://eplayvid.net/watch/d73483e90407072\n",
      "URL extracted from iframe: https://eplayvid.net/watch/3468604e1003136\n",
      "URL extracted from iframe: https://eplayvid.net/watch/45487d7dfd71135\n",
      "URL extracted from iframe: https://eplayvid.net/watch/f7e38989ed1c4f3\n",
      "URL extracted from iframe: https://eplayvid.net/watch/786d9915695308a\n",
      "URL extracted from iframe: https://eplayvid.net/watch/81ecc47bba9d78f\n",
      "URL extracted from iframe: https://eplayvid.net/watch/92a5a98910ce493\n",
      "URL extracted from iframe: https://eplayvid.net/watch/7c6f14a278f587c\n",
      "URL extracted from iframe: https://eplayvid.net/watch/b1af68b303bf368\n",
      "URL extracted from iframe: https://eplayvid.net/watch/aa55368e3725e47\n",
      "URL extracted from iframe: https://eplayvid.net/watch/d20cd846e4abd27\n",
      "URL extracted from iframe: https://eplayvid.net/watch/9f4a0d5bd7673b9\n",
      "URL extracted from iframe: https://eplayvid.net/watch/1c7da8a637488de\n",
      "URL extracted from iframe: https://eplayvid.net/watch/8b4762972762e2d\n"
     ]
    },
    {
     "ename": "KeyboardInterrupt",
     "evalue": "",
     "output_type": "error",
     "traceback": [
      "\u001b[1;31m---------------------------------------------------------------------------\u001b[0m",
      "\u001b[1;31mKeyboardInterrupt\u001b[0m                         Traceback (most recent call last)",
      "Cell \u001b[1;32mIn[11], line 4\u001b[0m\n\u001b[0;32m      1\u001b[0m driver \u001b[38;5;241m=\u001b[39m webdriver\u001b[38;5;241m.\u001b[39mChrome(chrome_driver_path)\n\u001b[0;32m      3\u001b[0m \u001b[38;5;28;01mfor\u001b[39;00m lin \u001b[38;5;129;01min\u001b[39;00m season_list:\n\u001b[1;32m----> 4\u001b[0m     driver\u001b[38;5;241m.\u001b[39mget(lin)\n\u001b[0;32m      5\u001b[0m     sleep(\u001b[38;5;241m10\u001b[39m)\n\u001b[0;32m      7\u001b[0m     episode_cards \u001b[38;5;241m=\u001b[39m driver\u001b[38;5;241m.\u001b[39mfind_elements_by_xpath(\n\u001b[0;32m      8\u001b[0m         \u001b[38;5;124m'\u001b[39m\u001b[38;5;124m//div[@class=\u001b[39m\u001b[38;5;124m\"\u001b[39m\u001b[38;5;124mplayer-iframe animation\u001b[39m\u001b[38;5;124m\"\u001b[39m\u001b[38;5;124m]\u001b[39m\u001b[38;5;124m'\u001b[39m)\n",
      "File \u001b[1;32mc:\\Users\\ELITEBOOK 1030\\anaconda3\\Lib\\site-packages\\selenium\\webdriver\\remote\\webdriver.py:333\u001b[0m, in \u001b[0;36mWebDriver.get\u001b[1;34m(self, url)\u001b[0m\n\u001b[0;32m    329\u001b[0m \u001b[38;5;28;01mdef\u001b[39;00m \u001b[38;5;21mget\u001b[39m(\u001b[38;5;28mself\u001b[39m, url):\n\u001b[0;32m    330\u001b[0m \u001b[38;5;250m    \u001b[39m\u001b[38;5;124;03m\"\"\"\u001b[39;00m\n\u001b[0;32m    331\u001b[0m \u001b[38;5;124;03m    Loads a web page in the current browser session.\u001b[39;00m\n\u001b[0;32m    332\u001b[0m \u001b[38;5;124;03m    \"\"\"\u001b[39;00m\n\u001b[1;32m--> 333\u001b[0m     \u001b[38;5;28mself\u001b[39m\u001b[38;5;241m.\u001b[39mexecute(Command\u001b[38;5;241m.\u001b[39mGET, {\u001b[38;5;124m'\u001b[39m\u001b[38;5;124murl\u001b[39m\u001b[38;5;124m'\u001b[39m: url})\n",
      "File \u001b[1;32mc:\\Users\\ELITEBOOK 1030\\anaconda3\\Lib\\site-packages\\selenium\\webdriver\\remote\\webdriver.py:319\u001b[0m, in \u001b[0;36mWebDriver.execute\u001b[1;34m(self, driver_command, params)\u001b[0m\n\u001b[0;32m    316\u001b[0m         params[\u001b[38;5;124m'\u001b[39m\u001b[38;5;124msessionId\u001b[39m\u001b[38;5;124m'\u001b[39m] \u001b[38;5;241m=\u001b[39m \u001b[38;5;28mself\u001b[39m\u001b[38;5;241m.\u001b[39msession_id\n\u001b[0;32m    318\u001b[0m params \u001b[38;5;241m=\u001b[39m \u001b[38;5;28mself\u001b[39m\u001b[38;5;241m.\u001b[39m_wrap_value(params)\n\u001b[1;32m--> 319\u001b[0m response \u001b[38;5;241m=\u001b[39m \u001b[38;5;28mself\u001b[39m\u001b[38;5;241m.\u001b[39mcommand_executor\u001b[38;5;241m.\u001b[39mexecute(driver_command, params)\n\u001b[0;32m    320\u001b[0m \u001b[38;5;28;01mif\u001b[39;00m response:\n\u001b[0;32m    321\u001b[0m     \u001b[38;5;28mself\u001b[39m\u001b[38;5;241m.\u001b[39merror_handler\u001b[38;5;241m.\u001b[39mcheck_response(response)\n",
      "File \u001b[1;32mc:\\Users\\ELITEBOOK 1030\\anaconda3\\Lib\\site-packages\\selenium\\webdriver\\remote\\remote_connection.py:374\u001b[0m, in \u001b[0;36mRemoteConnection.execute\u001b[1;34m(self, command, params)\u001b[0m\n\u001b[0;32m    372\u001b[0m data \u001b[38;5;241m=\u001b[39m utils\u001b[38;5;241m.\u001b[39mdump_json(params)\n\u001b[0;32m    373\u001b[0m url \u001b[38;5;241m=\u001b[39m \u001b[38;5;124m'\u001b[39m\u001b[38;5;132;01m%s\u001b[39;00m\u001b[38;5;132;01m%s\u001b[39;00m\u001b[38;5;124m'\u001b[39m \u001b[38;5;241m%\u001b[39m (\u001b[38;5;28mself\u001b[39m\u001b[38;5;241m.\u001b[39m_url, path)\n\u001b[1;32m--> 374\u001b[0m \u001b[38;5;28;01mreturn\u001b[39;00m \u001b[38;5;28mself\u001b[39m\u001b[38;5;241m.\u001b[39m_request(command_info[\u001b[38;5;241m0\u001b[39m], url, body\u001b[38;5;241m=\u001b[39mdata)\n",
      "File \u001b[1;32mc:\\Users\\ELITEBOOK 1030\\anaconda3\\Lib\\site-packages\\selenium\\webdriver\\remote\\remote_connection.py:397\u001b[0m, in \u001b[0;36mRemoteConnection._request\u001b[1;34m(self, method, url, body)\u001b[0m\n\u001b[0;32m    394\u001b[0m     body \u001b[38;5;241m=\u001b[39m \u001b[38;5;28;01mNone\u001b[39;00m\n\u001b[0;32m    396\u001b[0m \u001b[38;5;28;01mif\u001b[39;00m \u001b[38;5;28mself\u001b[39m\u001b[38;5;241m.\u001b[39mkeep_alive:\n\u001b[1;32m--> 397\u001b[0m     resp \u001b[38;5;241m=\u001b[39m \u001b[38;5;28mself\u001b[39m\u001b[38;5;241m.\u001b[39m_conn\u001b[38;5;241m.\u001b[39mrequest(method, url, body\u001b[38;5;241m=\u001b[39mbody, headers\u001b[38;5;241m=\u001b[39mheaders)\n\u001b[0;32m    399\u001b[0m     statuscode \u001b[38;5;241m=\u001b[39m resp\u001b[38;5;241m.\u001b[39mstatus\n\u001b[0;32m    400\u001b[0m \u001b[38;5;28;01melse\u001b[39;00m:\n",
      "File \u001b[1;32mc:\\Users\\ELITEBOOK 1030\\anaconda3\\Lib\\site-packages\\urllib3\\request.py:81\u001b[0m, in \u001b[0;36mRequestMethods.request\u001b[1;34m(self, method, url, fields, headers, **urlopen_kw)\u001b[0m\n\u001b[0;32m     77\u001b[0m     \u001b[38;5;28;01mreturn\u001b[39;00m \u001b[38;5;28mself\u001b[39m\u001b[38;5;241m.\u001b[39mrequest_encode_url(\n\u001b[0;32m     78\u001b[0m         method, url, fields\u001b[38;5;241m=\u001b[39mfields, headers\u001b[38;5;241m=\u001b[39mheaders, \u001b[38;5;241m*\u001b[39m\u001b[38;5;241m*\u001b[39murlopen_kw\n\u001b[0;32m     79\u001b[0m     )\n\u001b[0;32m     80\u001b[0m \u001b[38;5;28;01melse\u001b[39;00m:\n\u001b[1;32m---> 81\u001b[0m     \u001b[38;5;28;01mreturn\u001b[39;00m \u001b[38;5;28mself\u001b[39m\u001b[38;5;241m.\u001b[39mrequest_encode_body(\n\u001b[0;32m     82\u001b[0m         method, url, fields\u001b[38;5;241m=\u001b[39mfields, headers\u001b[38;5;241m=\u001b[39mheaders, \u001b[38;5;241m*\u001b[39m\u001b[38;5;241m*\u001b[39murlopen_kw\n\u001b[0;32m     83\u001b[0m     )\n",
      "File \u001b[1;32mc:\\Users\\ELITEBOOK 1030\\anaconda3\\Lib\\site-packages\\urllib3\\request.py:173\u001b[0m, in \u001b[0;36mRequestMethods.request_encode_body\u001b[1;34m(self, method, url, fields, headers, encode_multipart, multipart_boundary, **urlopen_kw)\u001b[0m\n\u001b[0;32m    170\u001b[0m extra_kw[\u001b[38;5;124m\"\u001b[39m\u001b[38;5;124mheaders\u001b[39m\u001b[38;5;124m\"\u001b[39m]\u001b[38;5;241m.\u001b[39mupdate(headers)\n\u001b[0;32m    171\u001b[0m extra_kw\u001b[38;5;241m.\u001b[39mupdate(urlopen_kw)\n\u001b[1;32m--> 173\u001b[0m \u001b[38;5;28;01mreturn\u001b[39;00m \u001b[38;5;28mself\u001b[39m\u001b[38;5;241m.\u001b[39murlopen(method, url, \u001b[38;5;241m*\u001b[39m\u001b[38;5;241m*\u001b[39mextra_kw)\n",
      "File \u001b[1;32mc:\\Users\\ELITEBOOK 1030\\anaconda3\\Lib\\site-packages\\urllib3\\poolmanager.py:376\u001b[0m, in \u001b[0;36mPoolManager.urlopen\u001b[1;34m(self, method, url, redirect, **kw)\u001b[0m\n\u001b[0;32m    374\u001b[0m     response \u001b[38;5;241m=\u001b[39m conn\u001b[38;5;241m.\u001b[39murlopen(method, url, \u001b[38;5;241m*\u001b[39m\u001b[38;5;241m*\u001b[39mkw)\n\u001b[0;32m    375\u001b[0m \u001b[38;5;28;01melse\u001b[39;00m:\n\u001b[1;32m--> 376\u001b[0m     response \u001b[38;5;241m=\u001b[39m conn\u001b[38;5;241m.\u001b[39murlopen(method, u\u001b[38;5;241m.\u001b[39mrequest_uri, \u001b[38;5;241m*\u001b[39m\u001b[38;5;241m*\u001b[39mkw)\n\u001b[0;32m    378\u001b[0m redirect_location \u001b[38;5;241m=\u001b[39m redirect \u001b[38;5;129;01mand\u001b[39;00m response\u001b[38;5;241m.\u001b[39mget_redirect_location()\n\u001b[0;32m    379\u001b[0m \u001b[38;5;28;01mif\u001b[39;00m \u001b[38;5;129;01mnot\u001b[39;00m redirect_location:\n",
      "File \u001b[1;32mc:\\Users\\ELITEBOOK 1030\\anaconda3\\Lib\\site-packages\\urllib3\\connectionpool.py:715\u001b[0m, in \u001b[0;36mHTTPConnectionPool.urlopen\u001b[1;34m(self, method, url, body, headers, retries, redirect, assert_same_host, timeout, pool_timeout, release_conn, chunked, body_pos, **response_kw)\u001b[0m\n\u001b[0;32m    712\u001b[0m     \u001b[38;5;28mself\u001b[39m\u001b[38;5;241m.\u001b[39m_prepare_proxy(conn)\n\u001b[0;32m    714\u001b[0m \u001b[38;5;66;03m# Make the request on the httplib connection object.\u001b[39;00m\n\u001b[1;32m--> 715\u001b[0m httplib_response \u001b[38;5;241m=\u001b[39m \u001b[38;5;28mself\u001b[39m\u001b[38;5;241m.\u001b[39m_make_request(\n\u001b[0;32m    716\u001b[0m     conn,\n\u001b[0;32m    717\u001b[0m     method,\n\u001b[0;32m    718\u001b[0m     url,\n\u001b[0;32m    719\u001b[0m     timeout\u001b[38;5;241m=\u001b[39mtimeout_obj,\n\u001b[0;32m    720\u001b[0m     body\u001b[38;5;241m=\u001b[39mbody,\n\u001b[0;32m    721\u001b[0m     headers\u001b[38;5;241m=\u001b[39mheaders,\n\u001b[0;32m    722\u001b[0m     chunked\u001b[38;5;241m=\u001b[39mchunked,\n\u001b[0;32m    723\u001b[0m )\n\u001b[0;32m    725\u001b[0m \u001b[38;5;66;03m# If we're going to release the connection in ``finally:``, then\u001b[39;00m\n\u001b[0;32m    726\u001b[0m \u001b[38;5;66;03m# the response doesn't need to know about the connection. Otherwise\u001b[39;00m\n\u001b[0;32m    727\u001b[0m \u001b[38;5;66;03m# it will also try to release it and we'll have a double-release\u001b[39;00m\n\u001b[0;32m    728\u001b[0m \u001b[38;5;66;03m# mess.\u001b[39;00m\n\u001b[0;32m    729\u001b[0m response_conn \u001b[38;5;241m=\u001b[39m conn \u001b[38;5;28;01mif\u001b[39;00m \u001b[38;5;129;01mnot\u001b[39;00m release_conn \u001b[38;5;28;01melse\u001b[39;00m \u001b[38;5;28;01mNone\u001b[39;00m\n",
      "File \u001b[1;32mc:\\Users\\ELITEBOOK 1030\\anaconda3\\Lib\\site-packages\\urllib3\\connectionpool.py:467\u001b[0m, in \u001b[0;36mHTTPConnectionPool._make_request\u001b[1;34m(self, conn, method, url, timeout, chunked, **httplib_request_kw)\u001b[0m\n\u001b[0;32m    462\u001b[0m             httplib_response \u001b[38;5;241m=\u001b[39m conn\u001b[38;5;241m.\u001b[39mgetresponse()\n\u001b[0;32m    463\u001b[0m         \u001b[38;5;28;01mexcept\u001b[39;00m \u001b[38;5;167;01mBaseException\u001b[39;00m \u001b[38;5;28;01mas\u001b[39;00m e:\n\u001b[0;32m    464\u001b[0m             \u001b[38;5;66;03m# Remove the TypeError from the exception chain in\u001b[39;00m\n\u001b[0;32m    465\u001b[0m             \u001b[38;5;66;03m# Python 3 (including for exceptions like SystemExit).\u001b[39;00m\n\u001b[0;32m    466\u001b[0m             \u001b[38;5;66;03m# Otherwise it looks like a bug in the code.\u001b[39;00m\n\u001b[1;32m--> 467\u001b[0m             six\u001b[38;5;241m.\u001b[39mraise_from(e, \u001b[38;5;28;01mNone\u001b[39;00m)\n\u001b[0;32m    468\u001b[0m \u001b[38;5;28;01mexcept\u001b[39;00m (SocketTimeout, BaseSSLError, SocketError) \u001b[38;5;28;01mas\u001b[39;00m e:\n\u001b[0;32m    469\u001b[0m     \u001b[38;5;28mself\u001b[39m\u001b[38;5;241m.\u001b[39m_raise_timeout(err\u001b[38;5;241m=\u001b[39me, url\u001b[38;5;241m=\u001b[39murl, timeout_value\u001b[38;5;241m=\u001b[39mread_timeout)\n",
      "File \u001b[1;32m<string>:3\u001b[0m, in \u001b[0;36mraise_from\u001b[1;34m(value, from_value)\u001b[0m\n",
      "File \u001b[1;32mc:\\Users\\ELITEBOOK 1030\\anaconda3\\Lib\\site-packages\\urllib3\\connectionpool.py:462\u001b[0m, in \u001b[0;36mHTTPConnectionPool._make_request\u001b[1;34m(self, conn, method, url, timeout, chunked, **httplib_request_kw)\u001b[0m\n\u001b[0;32m    459\u001b[0m \u001b[38;5;28;01mexcept\u001b[39;00m \u001b[38;5;167;01mTypeError\u001b[39;00m:\n\u001b[0;32m    460\u001b[0m     \u001b[38;5;66;03m# Python 3\u001b[39;00m\n\u001b[0;32m    461\u001b[0m     \u001b[38;5;28;01mtry\u001b[39;00m:\n\u001b[1;32m--> 462\u001b[0m         httplib_response \u001b[38;5;241m=\u001b[39m conn\u001b[38;5;241m.\u001b[39mgetresponse()\n\u001b[0;32m    463\u001b[0m     \u001b[38;5;28;01mexcept\u001b[39;00m \u001b[38;5;167;01mBaseException\u001b[39;00m \u001b[38;5;28;01mas\u001b[39;00m e:\n\u001b[0;32m    464\u001b[0m         \u001b[38;5;66;03m# Remove the TypeError from the exception chain in\u001b[39;00m\n\u001b[0;32m    465\u001b[0m         \u001b[38;5;66;03m# Python 3 (including for exceptions like SystemExit).\u001b[39;00m\n\u001b[0;32m    466\u001b[0m         \u001b[38;5;66;03m# Otherwise it looks like a bug in the code.\u001b[39;00m\n\u001b[0;32m    467\u001b[0m         six\u001b[38;5;241m.\u001b[39mraise_from(e, \u001b[38;5;28;01mNone\u001b[39;00m)\n",
      "File \u001b[1;32mc:\\Users\\ELITEBOOK 1030\\anaconda3\\Lib\\http\\client.py:1378\u001b[0m, in \u001b[0;36mHTTPConnection.getresponse\u001b[1;34m(self)\u001b[0m\n\u001b[0;32m   1376\u001b[0m \u001b[38;5;28;01mtry\u001b[39;00m:\n\u001b[0;32m   1377\u001b[0m     \u001b[38;5;28;01mtry\u001b[39;00m:\n\u001b[1;32m-> 1378\u001b[0m         response\u001b[38;5;241m.\u001b[39mbegin()\n\u001b[0;32m   1379\u001b[0m     \u001b[38;5;28;01mexcept\u001b[39;00m \u001b[38;5;167;01mConnectionError\u001b[39;00m:\n\u001b[0;32m   1380\u001b[0m         \u001b[38;5;28mself\u001b[39m\u001b[38;5;241m.\u001b[39mclose()\n",
      "File \u001b[1;32mc:\\Users\\ELITEBOOK 1030\\anaconda3\\Lib\\http\\client.py:318\u001b[0m, in \u001b[0;36mHTTPResponse.begin\u001b[1;34m(self)\u001b[0m\n\u001b[0;32m    316\u001b[0m \u001b[38;5;66;03m# read until we get a non-100 response\u001b[39;00m\n\u001b[0;32m    317\u001b[0m \u001b[38;5;28;01mwhile\u001b[39;00m \u001b[38;5;28;01mTrue\u001b[39;00m:\n\u001b[1;32m--> 318\u001b[0m     version, status, reason \u001b[38;5;241m=\u001b[39m \u001b[38;5;28mself\u001b[39m\u001b[38;5;241m.\u001b[39m_read_status()\n\u001b[0;32m    319\u001b[0m     \u001b[38;5;28;01mif\u001b[39;00m status \u001b[38;5;241m!=\u001b[39m CONTINUE:\n\u001b[0;32m    320\u001b[0m         \u001b[38;5;28;01mbreak\u001b[39;00m\n",
      "File \u001b[1;32mc:\\Users\\ELITEBOOK 1030\\anaconda3\\Lib\\http\\client.py:279\u001b[0m, in \u001b[0;36mHTTPResponse._read_status\u001b[1;34m(self)\u001b[0m\n\u001b[0;32m    278\u001b[0m \u001b[38;5;28;01mdef\u001b[39;00m \u001b[38;5;21m_read_status\u001b[39m(\u001b[38;5;28mself\u001b[39m):\n\u001b[1;32m--> 279\u001b[0m     line \u001b[38;5;241m=\u001b[39m \u001b[38;5;28mstr\u001b[39m(\u001b[38;5;28mself\u001b[39m\u001b[38;5;241m.\u001b[39mfp\u001b[38;5;241m.\u001b[39mreadline(_MAXLINE \u001b[38;5;241m+\u001b[39m \u001b[38;5;241m1\u001b[39m), \u001b[38;5;124m\"\u001b[39m\u001b[38;5;124miso-8859-1\u001b[39m\u001b[38;5;124m\"\u001b[39m)\n\u001b[0;32m    280\u001b[0m     \u001b[38;5;28;01mif\u001b[39;00m \u001b[38;5;28mlen\u001b[39m(line) \u001b[38;5;241m>\u001b[39m _MAXLINE:\n\u001b[0;32m    281\u001b[0m         \u001b[38;5;28;01mraise\u001b[39;00m LineTooLong(\u001b[38;5;124m\"\u001b[39m\u001b[38;5;124mstatus line\u001b[39m\u001b[38;5;124m\"\u001b[39m)\n",
      "File \u001b[1;32mc:\\Users\\ELITEBOOK 1030\\anaconda3\\Lib\\socket.py:706\u001b[0m, in \u001b[0;36mSocketIO.readinto\u001b[1;34m(self, b)\u001b[0m\n\u001b[0;32m    704\u001b[0m \u001b[38;5;28;01mwhile\u001b[39;00m \u001b[38;5;28;01mTrue\u001b[39;00m:\n\u001b[0;32m    705\u001b[0m     \u001b[38;5;28;01mtry\u001b[39;00m:\n\u001b[1;32m--> 706\u001b[0m         \u001b[38;5;28;01mreturn\u001b[39;00m \u001b[38;5;28mself\u001b[39m\u001b[38;5;241m.\u001b[39m_sock\u001b[38;5;241m.\u001b[39mrecv_into(b)\n\u001b[0;32m    707\u001b[0m     \u001b[38;5;28;01mexcept\u001b[39;00m timeout:\n\u001b[0;32m    708\u001b[0m         \u001b[38;5;28mself\u001b[39m\u001b[38;5;241m.\u001b[39m_timeout_occurred \u001b[38;5;241m=\u001b[39m \u001b[38;5;28;01mTrue\u001b[39;00m\n",
      "\u001b[1;31mKeyboardInterrupt\u001b[0m: "
     ]
    }
   ],
   "source": [
    "driver = webdriver.Chrome(chrome_driver_path)\n",
    "\n",
    "for lin in season_list:\n",
    "    driver.get(lin)\n",
    "    sleep(10)\n",
    "\n",
    "    episode_cards = driver.find_elements_by_xpath(\n",
    "        '//div[@class=\"player-iframe animation\"]')\n",
    "\n",
    "    for card in episode_cards:\n",
    "        ElementHTML = card.get_attribute('outerHTML')\n",
    "        Elementsoup = BeautifulSoup(ElementHTML, 'html5lib')\n",
    "        players_iframe = Elementsoup.find('div', class_='player-iframe animation')\n",
    "\n",
    "        # If the div is found, extract the src attribute from the iframe\n",
    "        if players_iframe:\n",
    "            Iframe_src = players_iframe.find('iframe').get('src')\n",
    "            print(\"URL extracted from iframe:\", Iframe_src)\n",
    "        else:\n",
    "            print(\"No player iframe found.\")"
   ]
  },
  {
   "cell_type": "markdown",
   "metadata": {},
   "source": [
    "#########GENERES INSTANCE\n"
   ]
  },
  {
   "cell_type": "code",
   "execution_count": null,
   "metadata": {},
   "outputs": [
    {
     "name": "stdout",
     "output_type": "stream",
     "text": [
      "A = Genres: Drama Anime, Fantasy Anime, Music Anime, Romance Anime, School Anime\n",
      "B = Country: Japan\n",
      "C = Director:\n",
      "D = Duration:\n",
      "E = Year:\n",
      "F = Actors:\n"
     ]
    }
   ],
   "source": [
    "from bs4 import BeautifulSoup\n",
    "\n",
    "# HTML snippet containing the information\n",
    "html_snippet = \"\"\"\n",
    "<ul>\n",
    "    <li class=\"label\">Genres: Drama Anime, Fantasy Anime, Music Anime, Romance Anime, School Anime</li>\n",
    "    <li class=\"label\">Country: Japan</li>\n",
    "    <li class=\"label\">Director: </li>\n",
    "    <li class=\"label\">Duration: </li>\n",
    "    <li class=\"label\">Year: </li>\n",
    "    <li class=\"label\">Actors: </li>\n",
    "</ul>\n",
    "\"\"\"\n",
    "\n",
    "# Parse the HTML using BeautifulSoup\n",
    "soup = BeautifulSoup(html_snippet, 'html.parser')\n",
    "\n",
    "# Find all list items with class 'label'\n",
    "labels = soup.find_all('li', class_='label')\n",
    "\n",
    "# Define variables to store the information\n",
    "A, B, C, D, E, F = None, None, None, None, None, None\n",
    "\n",
    "# Iterate over each list item and extract the label and value\n",
    "for index, label in enumerate(labels):\n",
    "    label_text = label.text.strip()  # Get the text content of the list item\n",
    "    if label_text.startswith('Genres'):\n",
    "        A = label_text\n",
    "    elif label_text.startswith('Country'):\n",
    "        B = label_text\n",
    "    elif label_text.startswith('Director'):\n",
    "        C = label_text\n",
    "    elif label_text.startswith('Duration'):\n",
    "        D = label_text\n",
    "    elif label_text.startswith('Year'):\n",
    "        E = label_text\n",
    "    elif label_text.startswith('Actors'):\n",
    "        F = label_text\n",
    "\n",
    "# Print the assigned variables\n",
    "print(\"A =\", A)\n",
    "print(\"B =\", B)\n",
    "print(\"C =\", C)\n",
    "print(\"D =\", D)\n",
    "print(\"E =\", E)\n",
    "print(\"F =\", F)\n"
   ]
  },
  {
   "cell_type": "markdown",
   "metadata": {},
   "source": [
    "SQL INSTANCE FOE EPISODE \n"
   ]
  },
  {
   "cell_type": "code",
   "execution_count": null,
   "metadata": {},
   "outputs": [
    {
     "name": "stdout",
     "output_type": "stream",
     "text": [
      "   movie_id  episode_number      title  duration_minutes  release_year  \\\n",
      "0         1               1  Episode 1                50          2022   \n",
      "1         1               2  Episode 2                45          2022   \n",
      "2         2               1  Episode 1                55          2023   \n",
      "3         2               2  Episode 2                52          2023   \n",
      "\n",
      "                description                               video_link  \n",
      "0  Description of Episode 1  https://example.com/videos/episode1.mp4  \n",
      "1  Description of Episode 2  https://example.com/videos/episode2.mp4  \n",
      "2  Description of Episode 1  https://example.com/videos/episode1.mp4  \n",
      "3  Description of Episode 2  https://example.com/videos/episode2.mp4  \n"
     ]
    }
   ],
   "source": [
    "import pandas as pd\n",
    "\n",
    "# Define the data\n",
    "data = {\n",
    "    'movie_id': [1, 1, 2, 2],\n",
    "    'episode_number': [1, 2, 1, 2],\n",
    "    'title': ['Episode 1', 'Episode 2', 'Episode 1', 'Episode 2'],\n",
    "    'duration_minutes': [50, 45, 55, 52],\n",
    "    'release_year': [2022, 2022, 2023, 2023],\n",
    "    'description': ['Description of Episode 1', 'Description of Episode 2', 'Description of Episode 1', 'Description of Episode 2'],\n",
    "    'video_link': ['https://example.com/videos/episode1.mp4', 'https://example.com/videos/episode2.mp4', 'https://example.com/videos/episode1.mp4', 'https://example.com/videos/episode2.mp4']\n",
    "}\n",
    "\n",
    "# Create a DataFrame\n",
    "episodes_df = pd.DataFrame(data)\n",
    "\n",
    "# Display the DataFrame\n",
    "print(episodes_df)\n"
   ]
  },
  {
   "cell_type": "code",
   "execution_count": null,
   "metadata": {},
   "outputs": [],
   "source": []
  },
  {
   "cell_type": "code",
   "execution_count": null,
   "metadata": {},
   "outputs": [
    {
     "name": "stdout",
     "output_type": "stream",
     "text": [
      "URL extracted from iframe: https://eplayvid.net/watch/ef954d5306b5a80\n"
     ]
    }
   ],
   "source": [
    "player_iframe = elementsoup.find('div', class_='player-iframe animation')\n",
    "\n",
    "# If the div is found, extract the src attribute from the iframe\n",
    "if player_iframe:\n",
    "    iframe_src = player_iframe.find('iframe').get('src')\n",
    "    print(\"URL extracted from iframe:\", iframe_src)\n",
    "else:\n",
    "    print(\"No player iframe found.\")"
   ]
  },
  {
   "cell_type": "code",
   "execution_count": 14,
   "metadata": {},
   "outputs": [
    {
     "name": "stdout",
     "output_type": "stream",
     "text": [
      "                      title         genres         country duration_minutes  \\\n",
      "0     Elizabeth R: Season 1  Short, Sci-Fi  United Kingdom            5 min   \n",
      "1  The Shawshank Redemption          Drama             USA              142   \n",
      "2             The Godfather   Crime, Drama             USA              175   \n",
      "\n",
      "   release_year                                             actors  \\\n",
      "0          2022  Hannah Brackstone-Brown, Lanre Danmola, James ...   \n",
      "1          1994                        Tim Robbins, Morgan Freeman   \n",
      "2          1972               Marlon Brando, Al Pacino, James Caan   \n",
      "\n",
      "                                         description  \\\n",
      "0  When Elizabeth Tudor comes to the throne, her ...   \n",
      "1  Two imprisoned men bond over a number of years...   \n",
      "2  The aging patriarch of an organized crime dyna...   \n",
      "\n",
      "                                          poster_url  \n",
      "0               https://cdn.upmovies.net/j9eYAkp.jpg  \n",
      "1  https://example.com/posters/shawshank_redempti...  \n",
      "2          https://example.com/posters/godfather.jpg  \n"
     ]
    }
   ],
   "source": [
    "import pandas as pd\n",
    "\n",
    "# Existing data\n",
    "df1 = {\n",
    "    'title': \"Elizabeth R: Season 1\",\n",
    "    'genres': \"Short, Sci-Fi\",\n",
    "    'country': \"United Kingdom\",\n",
    "    'duration_minutes': \"5 min\",\n",
    "    'release_year': 2022,\n",
    "    'actors': \"Hannah Brackstone-Brown, Lanre Danmola, James Glyn\",\n",
    "    'description': \"When Elizabeth Tudor comes to the throne, her (male) advisers know she has to marry. Doesn't she? Thus starts a decades-long political/ matrimonial game, during an age of high passions and high achievement.\",\n",
    "    'poster_url': \"https://cdn.upmovies.net/j9eYAkp.jpg\"\n",
    "}\n",
    "\n",
    "# New data\n",
    "data = [\n",
    "    {\n",
    "        'title': \"The Shawshank Redemption\",\n",
    "        'genres': \"Drama\",\n",
    "        'country': \"USA\",\n",
    "        'duration_minutes': 142,\n",
    "        'release_year': 1994,\n",
    "        'actors': \"Tim Robbins, Morgan Freeman\",\n",
    "        'description': \"Two imprisoned men bond over a number of years, finding solace and eventual redemption through acts of common decency.\",\n",
    "        'poster_url': \"https://example.com/posters/shawshank_redemption.jpg\"\n",
    "    },\n",
    "    {\n",
    "        'title': \"The Godfather\",\n",
    "        'genres': \"Crime, Drama\",\n",
    "        'country': \"USA\",\n",
    "        'duration_minutes': 175,\n",
    "        'release_year': 1972,\n",
    "        'actors': \"Marlon Brando, Al Pacino, James Caan\",\n",
    "        'description': \"The aging patriarch of an organized crime dynasty transfers control of his clandestine empire to his reluctant son.\",\n",
    "        'poster_url': \"https://example.com/posters/godfather.jpg\"\n",
    "    }\n",
    "]\n",
    "\n",
    "# Convert to DataFrame\n",
    "tab1 = pd.DataFrame([df1])\n",
    "tab2 = pd.DataFrame(data)\n",
    "\n",
    "# Concatenate DataFrames\n",
    "result = pd.concat([tab1, tab2], ignore_index=True)\n",
    "\n",
    "print(result)\n"
   ]
  },
  {
   "cell_type": "code",
   "execution_count": 3,
   "metadata": {},
   "outputs": [],
   "source": [
    "import requests\n",
    "from bs4 import BeautifulSoup\n",
    "import html5lib\n"
   ]
  },
  {
   "cell_type": "code",
   "execution_count": 5,
   "metadata": {},
   "outputs": [
    {
     "name": "stdout",
     "output_type": "stream",
     "text": [
      "<Response [200]>\n"
     ]
    }
   ],
   "source": [
    "url =  \"https://home.cy/real-estate-for-sale/apartment-for-sale-in-nicosia-172513\"\n",
    "request  =requests.get(url)\n",
    "print(request)"
   ]
  },
  {
   "cell_type": "code",
   "execution_count": null,
   "metadata": {},
   "outputs": [],
   "source": [
    "{[\n",
    "  \"id\": \"12345\",\n",
    "  \"name\": \"Example Property\",\n",
    "  \"address\": \"123 Main St\",\n",
    "  \"metrics\": [\n",
    "    {\n",
    "      \"type\": \"energy_consumption\",\n",
    "      \"value\": 123.45,\n",
    "      \"unit\": \"kWh\"\n",
    "    },\n",
    "    {\n",
    "      \"type\": \"water_usage\",\n",
    "      \"value\": 456.78,\n",
    "      \"unit\": \"gal\"\n",
    "    },\n",
    "   ...\n",
    "  ],\n",
    "  \"insights\": [\n",
    "    {\n",
    "      \"type\": \"energy_efficiency\",\n",
    "      \"recommendation\": \"Install LED lighting\",\n",
    "      \"savings\": 10.0\n",
    "    },\n",
    "   ...\n",
    "  ],\n",
    "  \"maintenance\": [\n",
    "    {\n",
    "      \"type\": \"predictive_maintenance\",\n",
    "      \"schedule\": \"2023-03-15T14:30:00.000Z\",\n",
    "      \"alert\": \"Equipment failure predicted\"\n",
    "    },\n",
    "   ...\n",
    "  ]\n",
    "]}"
   ]
  }
 ],
 "metadata": {
  "kernelspec": {
   "display_name": "base",
   "language": "python",
   "name": "python3"
  },
  "language_info": {
   "codemirror_mode": {
    "name": "ipython",
    "version": 3
   },
   "file_extension": ".py",
   "mimetype": "text/x-python",
   "name": "python",
   "nbconvert_exporter": "python",
   "pygments_lexer": "ipython3",
   "version": "3.11.5"
  }
 },
 "nbformat": 4,
 "nbformat_minor": 2
}
