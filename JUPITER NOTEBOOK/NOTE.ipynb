{
 "cells": [
  {
   "cell_type": "code",
   "execution_count": null,
   "metadata": {},
   "outputs": [],
   "source": []
  },
  {
   "cell_type": "code",
   "execution_count": null,
   "metadata": {},
   "outputs": [],
   "source": []
  },
  {
   "cell_type": "code",
   "execution_count": 4,
   "metadata": {},
   "outputs": [
    {
     "data": {
      "text/plain": [
       "200"
      ]
     },
     "execution_count": 4,
     "metadata": {},
     "output_type": "execute_result"
    }
   ],
   "source": [
    "import requests \n",
    "url =\"https://9animetv.to/home\"\n",
    "r=requests.get(url)\n",
    "r.status_code"
   ]
  },
  {
   "cell_type": "code",
   "execution_count": 10,
   "metadata": {},
   "outputs": [
    {
     "name": "stdout",
     "output_type": "stream",
     "text": [
      "https://animeheaven.me/search.php?s=high+school\n"
     ]
    }
   ],
   "source": [
    "from bs4 import BeautifulSoup\n",
    "import requests\n",
    "def getname(anime_name):\n",
    "    # Split the anime name into individual words\n",
    "    anime_words = anime_name.split()\n",
    "    \n",
    "    # Join the words with a plus sign (+) as a separator\n",
    "    anime_query = '+'.join(anime_words)\n",
    "    \n",
    "    # Construct the URL template\n",
    "    template = \"https://animeheaven.me/search.php?s={}\"\n",
    "    \n",
    "    # Insert the concatenated query into the URL template\n",
    "    url = template.format(anime_query)\n",
    "    return url\n",
    "\n",
    "a = input(\"ENTER ANIME : \")\n",
    "link = getname(a)\n",
    "print(link)\n",
    "r  = requests.get(link)\n",
    "soup = BeautifulSoup(r.text,'html5lib')\n",
    "\n"
   ]
  },
  {
   "cell_type": "code",
   "execution_count": 34,
   "metadata": {},
   "outputs": [
    {
     "name": "stdout",
     "output_type": "stream",
     "text": [
      "[<div class=\"similarimg\"><div class=\"p1\"><a href=\"anime.php?7jt4g\"><img alt=\"High School DxD\" class=\"coverimg\" src=\"image.php?eyovx\"/></a><div class=\"similarname c\"><a class=\"c\" href=\"anime.php?7jt4g\">High School DxD</a></div></div></div>, <div class=\"similarimg\"><div class=\"p1\"><a href=\"anime.php?3i16j\"><img alt=\"High School DxD NEW\" class=\"coverimg\" src=\"image.php?cl65y\"/></a><div class=\"similarname c\"><a class=\"c\" href=\"anime.php?3i16j\">High School DxD NEW</a></div></div></div>, <div class=\"similarimg\"><div class=\"p1\"><a href=\"anime.php?p2vz6\"><img alt=\"High School DxD BorN\" class=\"coverimg\" src=\"image.php?efyn3\"/></a><div class=\"similarname c\"><a class=\"c\" href=\"anime.php?p2vz6\">High School DxD BorN</a></div></div></div>, <div class=\"similarimg\"><div class=\"p1\"><a href=\"anime.php?v1ad0\"><img alt=\"High School DxD Hero\" class=\"coverimg\" src=\"image.php?co2zd\"/></a><div class=\"similarname c\"><a class=\"c\" href=\"anime.php?v1ad0\">High School DxD Hero</a></div></div></div>, <div class=\"similarimg\"><div class=\"p1\"><a href=\"anime.php?xn1du\"><img alt=\"Haikyuu!! Karasuno High School vs Shiratorizawa Academy\" class=\"coverimg\" src=\"image.php?k9ake\"/></a><div class=\"similarname c\"><a class=\"c\" href=\"anime.php?xn1du\">Haikyuu!! Karasuno High School vs Shiratorizawa Academy</a></div></div></div>, <div class=\"similarimg\"><div class=\"p1\"><a href=\"anime.php?nte2s\"><img alt=\"The God of High School\" class=\"coverimg\" src=\"image.php?nxlk9\"/></a><div class=\"similarname c\"><a class=\"c\" href=\"anime.php?nte2s\">The God of High School</a></div></div></div>, <div class=\"similarimg\"><div class=\"p1\"><a href=\"anime.php?gkt1j\"><img alt=\"Daily Lives of High School Boys\" class=\"coverimg\" src=\"image.php?fzvyv\"/></a><div class=\"similarname c\"><a class=\"c\" href=\"anime.php?gkt1j\">Daily Lives of High School Boys</a></div></div></div>, <div class=\"similarimg\"><div class=\"p1\"><a href=\"anime.php?i1djx\"><img alt=\"Highschool of the Dead\" class=\"coverimg\" src=\"image.php?8atrw\"/></a><div class=\"similarname c\"><a class=\"c\" href=\"anime.php?i1djx\">Highschool of the Dead</a></div></div></div>, <div class=\"similarimg\"><div class=\"p1\"><a href=\"anime.php?kv4p6\"><img alt=\"TONIKAWA: Over The Moon For You - High School Days\" class=\"coverimg\" src=\"image.php?tyoie\"/></a><div class=\"similarname c\"><a class=\"c\" href=\"anime.php?kv4p6\">TONIKAWA: Over The Moon For You - High School Days</a></div></div></div>, <div class=\"similarimg\"><div class=\"p1\"><a href=\"anime.php?nrtsc\"><img alt=\"Love Live! Nijigasaki High School Idol Club: Next Sky\" class=\"coverimg\" src=\"image.php?eevho\"/></a><div class=\"similarname c\"><a class=\"c\" href=\"anime.php?nrtsc\">Love Live! Nijigasaki High School Idol Club: Next Sky</a></div></div></div>]\n"
     ]
    }
   ],
   "source": [
    "search_list=[]\n",
    "\n",
    "search_result = soup.find_all('div', {'class': \"similarimg\"})\n",
    "for search in search_result:\n",
    "   search_list.append(search)\n",
    "print(search_list)\n",
    " \n",
    "   "
   ]
  },
  {
   "cell_type": "code",
   "execution_count": null,
   "metadata": {},
   "outputs": [],
   "source": [
    "href=\"/Salary/American-Civil-Liberties-Union-Intern-Hourly-Salaries-E16157_DAO.htm?filter.jobTitleExact=Intern+-+Hourly\""
   ]
  },
  {
   "cell_type": "code",
   "execution_count": null,
   "metadata": {},
   "outputs": [],
   "source": []
  }
 ],
 "metadata": {
  "kernelspec": {
   "display_name": "base",
   "language": "python",
   "name": "python3"
  },
  "language_info": {
   "codemirror_mode": {
    "name": "ipython",
    "version": 3
   },
   "file_extension": ".py",
   "mimetype": "text/x-python",
   "name": "python",
   "nbconvert_exporter": "python",
   "pygments_lexer": "ipython3",
   "version": "3.11.5"
  }
 },
 "nbformat": 4,
 "nbformat_minor": 2
}
