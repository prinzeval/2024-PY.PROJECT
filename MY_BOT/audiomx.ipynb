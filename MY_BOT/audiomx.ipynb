{
 "cells": [
  {
   "cell_type": "markdown",
   "metadata": {},
   "source": [
    "DOWNLOADS THE MIXED AUDIO , BOTH LENGTH OF ONE IS BIGGER THAN THE OTHER "
   ]
  },
  {
   "cell_type": "code",
   "execution_count": 3,
   "metadata": {},
   "outputs": [],
   "source": [
    "from pydub import AudioSegment\n",
    "\n",
    "def mix_audio(file1, file2, output_file):\n",
    "    sound1 = AudioSegment.from_file(file1)\n",
    "    sound2 = AudioSegment.from_file(file2)\n",
    "    \n",
    "    # Calculate the maximum duration between the two audio files\n",
    "    max_duration = max(len(sound1), len(sound2))\n",
    "    \n",
    "    # Cut both audio files to match the maximum duration\n",
    "    sound1 = sound1[:max_duration]\n",
    "    sound2 = sound2[:max_duration]\n",
    "    \n",
    "    # Mix the two audio files\n",
    "    mixed_sound = sound1.overlay(sound2)\n",
    "    \n",
    "    # Export the mixed audio to a file\n",
    "    mixed_sound.export(output_file, format=\"wav\")\n",
    "\n",
    "# Paths to the audio files\n",
    "audio_file1 = \"C:\\\\Users\\\\ELITEBOOK 1030\\\\OneDrive\\\\Desktop\\\\musiz\\\\Olivia Rodrigo - drivers license (Official Video)-slowedandreverbstudio.wav\"\n",
    "audio_file2 = \"C:\\\\Users\\\\ELITEBOOK 1030\\\\OneDrive\\\\Desktop\\\\rainz\\\\10 Minutes of Rain and Thunderstorm Sounds For Focus, Relaxing and Sleep Epidemic ASMR.wav\"\n",
    "output_file = \"C:\\\\Users\\\\ELITEBOOK 1030\\\\OneDrive\\\\Desktop\\\\mixed_audio1.wav\"\n",
    "\n",
    "# Mix the two audio files together\n",
    "mix_audio(audio_file1, audio_file2, output_file)\n"
   ]
  },
  {
   "cell_type": "markdown",
   "metadata": {},
   "source": [
    "PLAYING TWO AUDIOS SIMUTANEOUSLY AND DOWNLOADS IT (THE LONGER AUDIO STOPS IMMEDIATELY THE SHORTER ONE STOPS)"
   ]
  },
  {
   "cell_type": "code",
   "execution_count": null,
   "metadata": {},
   "outputs": [],
   "source": [
    "from pydub import AudioSegment\n",
    "\n",
    "def mix_audio(file1, file2, output_file):\n",
    "    sound1 = AudioSegment.from_file(file1)\n",
    "    sound2 = AudioSegment.from_file(file2)\n",
    "    \n",
    "    # Adjust the length of the shorter audio to match the longer one\n",
    "    duration_diff = len(sound1) - len(sound2)\n",
    "    if duration_diff > 0:\n",
    "        sound2 += AudioSegment.silent(duration=abs(duration_diff))\n",
    "    else:\n",
    "        sound1 += AudioSegment.silent(duration=abs(duration_diff))\n",
    "    \n",
    "    # Mix the two audio files\n",
    "    mixed_sound = sound1.overlay(sound2)\n",
    "    \n",
    "    # Export the mixed audio to a file\n",
    "    mixed_sound.export(output_file, format=\"wav\")\n",
    "\n",
    "# Paths to the audio files\n",
    "audio_file1 = \"C:\\\\Users\\\\ELITEBOOK 1030\\\\OneDrive\\\\Desktop\\\\musiz\\\\Olivia Rodrigo - drivers license (Official Video)-slowedandreverbstudio.wav\"\n",
    "audio_file2 = \"C:\\\\Users\\\\ELITEBOOK 1030\\\\OneDrive\\\\Desktop\\\\rainz\\\\10 Minutes of Rain and Thunderstorm Sounds For Focus, Relaxing and Sleep Epidemic ASMR.wav\"\n",
    "output_file = \"C:\\\\Users\\\\ELITEBOOK 1030\\\\OneDrive\\\\Desktop\\\\mixed_audio.wav\"\n",
    "\n",
    "\n",
    "# Mix the two audio files together\n",
    "mix_audio(audio_file1, audio_file2, output_file)\n"
   ]
  },
  {
   "cell_type": "markdown",
   "metadata": {},
   "source": [
    "DOWNLOADS IMAGE AS JPG \n"
   ]
  },
  {
   "cell_type": "code",
   "execution_count": null,
   "metadata": {},
   "outputs": [],
   "source": [
    "import requests\n",
    "\n",
    "def download_image(url, filename):\n",
    "    response = requests.get(url)\n",
    "    if response.status_code == 200:\n",
    "        with open(filename, 'wb') as f:\n",
    "            f.write(response.content)\n",
    "        print(\"Image downloaded successfully!\")\n",
    "    else:\n",
    "        print(\"Failed to download image\")\n",
    "\n",
    "# URL of the image you want to download\n",
    "image_url = \"https://drscdn.500px.org/photo/27687791/q%3D90_m%3D1024/v2?sig=2f12b2b76ee2ea96552ab745168443050d7d815823d53bcc1ff6fbc85da1a9d9\"\n",
    "\n",
    "# Filename to save the image as\n",
    "filename = \"imaa_image.jpg\"\n",
    "\n",
    "# Download the image\n",
    "download_image(image_url, filename)\n"
   ]
  }
 ],
 "metadata": {
  "kernelspec": {
   "display_name": "base",
   "language": "python",
   "name": "python3"
  },
  "language_info": {
   "codemirror_mode": {
    "name": "ipython",
    "version": 3
   },
   "file_extension": ".py",
   "mimetype": "text/x-python",
   "name": "python",
   "nbconvert_exporter": "python",
   "pygments_lexer": "ipython3",
   "version": "3.11.5"
  }
 },
 "nbformat": 4,
 "nbformat_minor": 2
}
