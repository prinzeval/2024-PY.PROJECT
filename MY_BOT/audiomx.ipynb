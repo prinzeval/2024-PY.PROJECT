{
 "cells": [
  {
   "cell_type": "markdown",
   "metadata": {},
   "source": [
    "# **DOWNLOADS THE MIXED AUDIO , BOTH LENGTH OF ONE IS BIGGER THAN THE OTHER** "
   ]
  },
  {
   "cell_type": "code",
   "execution_count": 3,
   "metadata": {},
   "outputs": [
    {
     "ename": "FileNotFoundError",
     "evalue": "[Errno 2] No such file or directory: 'C:\\\\Users\\\\ELITEBOOK 1030\\\\OneDrive\\\\Desktop\\\\musiz\\\\Olivia Rodrigo - drivers license (Official Video)-slowedandreverbstudio.wav'",
     "output_type": "error",
     "traceback": [
      "\u001b[1;31m---------------------------------------------------------------------------\u001b[0m",
      "\u001b[1;31mFileNotFoundError\u001b[0m                         Traceback (most recent call last)",
      "Cell \u001b[1;32mIn[3], line 26\u001b[0m\n\u001b[0;32m     23\u001b[0m output_file \u001b[38;5;241m=\u001b[39m \u001b[38;5;124m\"\u001b[39m\u001b[38;5;124mC:\u001b[39m\u001b[38;5;130;01m\\\\\u001b[39;00m\u001b[38;5;124mUsers\u001b[39m\u001b[38;5;130;01m\\\\\u001b[39;00m\u001b[38;5;124mELITEBOOK 1030\u001b[39m\u001b[38;5;130;01m\\\\\u001b[39;00m\u001b[38;5;124mOneDrive\u001b[39m\u001b[38;5;130;01m\\\\\u001b[39;00m\u001b[38;5;124mDesktop\u001b[39m\u001b[38;5;130;01m\\\\\u001b[39;00m\u001b[38;5;124mmixed_audio1.wav\u001b[39m\u001b[38;5;124m\"\u001b[39m\n\u001b[0;32m     25\u001b[0m \u001b[38;5;66;03m# Mix the two audio files together\u001b[39;00m\n\u001b[1;32m---> 26\u001b[0m mix_audio(audio_file1, audio_file2, output_file)\n",
      "Cell \u001b[1;32mIn[3], line 4\u001b[0m, in \u001b[0;36mmix_audio\u001b[1;34m(file1, file2, output_file)\u001b[0m\n\u001b[0;32m      3\u001b[0m \u001b[38;5;28;01mdef\u001b[39;00m \u001b[38;5;21mmix_audio\u001b[39m(file1, file2, output_file):\n\u001b[1;32m----> 4\u001b[0m     sound1 \u001b[38;5;241m=\u001b[39m AudioSegment\u001b[38;5;241m.\u001b[39mfrom_file(file1)\n\u001b[0;32m      5\u001b[0m     sound2 \u001b[38;5;241m=\u001b[39m AudioSegment\u001b[38;5;241m.\u001b[39mfrom_file(file2)\n\u001b[0;32m      7\u001b[0m     \u001b[38;5;66;03m# Calculate the maximum duration between the two audio files\u001b[39;00m\n",
      "File \u001b[1;32mc:\\Users\\ELITEBOOK 1030\\anaconda3\\Lib\\site-packages\\pydub\\audio_segment.py:651\u001b[0m, in \u001b[0;36mAudioSegment.from_file\u001b[1;34m(cls, file, format, codec, parameters, start_second, duration, **kwargs)\u001b[0m\n\u001b[0;32m    649\u001b[0m \u001b[38;5;28;01mexcept\u001b[39;00m \u001b[38;5;167;01mTypeError\u001b[39;00m:\n\u001b[0;32m    650\u001b[0m     filename \u001b[38;5;241m=\u001b[39m \u001b[38;5;28;01mNone\u001b[39;00m\n\u001b[1;32m--> 651\u001b[0m file, close_file \u001b[38;5;241m=\u001b[39m _fd_or_path_or_tempfile(file, \u001b[38;5;124m'\u001b[39m\u001b[38;5;124mrb\u001b[39m\u001b[38;5;124m'\u001b[39m, tempfile\u001b[38;5;241m=\u001b[39m\u001b[38;5;28;01mFalse\u001b[39;00m)\n\u001b[0;32m    653\u001b[0m \u001b[38;5;28;01mif\u001b[39;00m \u001b[38;5;28mformat\u001b[39m:\n\u001b[0;32m    654\u001b[0m     \u001b[38;5;28mformat\u001b[39m \u001b[38;5;241m=\u001b[39m \u001b[38;5;28mformat\u001b[39m\u001b[38;5;241m.\u001b[39mlower()\n",
      "File \u001b[1;32mc:\\Users\\ELITEBOOK 1030\\anaconda3\\Lib\\site-packages\\pydub\\utils.py:60\u001b[0m, in \u001b[0;36m_fd_or_path_or_tempfile\u001b[1;34m(fd, mode, tempfile)\u001b[0m\n\u001b[0;32m     57\u001b[0m     close_fd \u001b[38;5;241m=\u001b[39m \u001b[38;5;28;01mTrue\u001b[39;00m\n\u001b[0;32m     59\u001b[0m \u001b[38;5;28;01mif\u001b[39;00m \u001b[38;5;28misinstance\u001b[39m(fd, basestring):\n\u001b[1;32m---> 60\u001b[0m     fd \u001b[38;5;241m=\u001b[39m \u001b[38;5;28mopen\u001b[39m(fd, mode\u001b[38;5;241m=\u001b[39mmode)\n\u001b[0;32m     61\u001b[0m     close_fd \u001b[38;5;241m=\u001b[39m \u001b[38;5;28;01mTrue\u001b[39;00m\n\u001b[0;32m     63\u001b[0m \u001b[38;5;28;01mtry\u001b[39;00m:\n",
      "\u001b[1;31mFileNotFoundError\u001b[0m: [Errno 2] No such file or directory: 'C:\\\\Users\\\\ELITEBOOK 1030\\\\OneDrive\\\\Desktop\\\\musiz\\\\Olivia Rodrigo - drivers license (Official Video)-slowedandreverbstudio.wav'"
     ]
    }
   ],
   "source": [
    "from pydub import AudioSegment\n",
    "\n",
    "def mix_audio(file1, file2, output_file):\n",
    "    sound1 = AudioSegment.from_file(file1)\n",
    "    sound2 = AudioSegment.from_file(file2)\n",
    "    \n",
    "    # Calculate the maximum duration between the two audio files\n",
    "    max_duration = max(len(sound1), len(sound2))\n",
    "    \n",
    "    # Cut both audio files to match the maximum duration\n",
    "    sound1 = sound1[:max_duration]\n",
    "    sound2 = sound2[:max_duration]\n",
    "    \n",
    "    # Mix the two audio files\n",
    "    mixed_sound = sound1.overlay(sound2)\n",
    "    \n",
    "    # Export the mixed audio to a file\n",
    "    mixed_sound.export(output_file, format=\"wav\")\n",
    "\n",
    "# Paths to the audio files\n",
    "audio_file1 = \"C:\\\\Users\\\\ELITEBOOK 1030\\\\OneDrive\\\\Desktop\\\\musiz\\\\Olivia Rodrigo - drivers license (Official Video)-slowedandreverbstudio.wav\"\n",
    "audio_file2 = \"C:\\\\Users\\\\ELITEBOOK 1030\\\\OneDrive\\\\Desktop\\\\rainz\\\\10 Minutes of Rain and Thunderstorm Sounds For Focus, Relaxing and Sleep Epidemic ASMR.wav\"\n",
    "output_file = \"C:\\\\Users\\\\ELITEBOOK 1030\\\\OneDrive\\\\Desktop\\\\mixed_audio1.wav\"\n",
    "\n",
    "# Mix the two audio files together\n",
    "mix_audio(audio_file1, audio_file2, output_file)\n"
   ]
  },
  {
   "cell_type": "markdown",
   "metadata": {},
   "source": [
    "PLAYING TWO AUDIOS SIMUTANEOUSLY AND DOWNLOADS IT (THE LONGER AUDIO STOPS IMMEDIATELY THE SHORTER ONE STOPS)"
   ]
  },
  {
   "cell_type": "code",
   "execution_count": 1,
   "metadata": {},
   "outputs": [
    {
     "ename": "FileNotFoundError",
     "evalue": "[Errno 2] No such file or directory: 'C:\\\\Users\\\\ELITEBOOK 1030\\\\OneDrive\\\\Desktop\\\\musiz\\\\Olivia Rodrigo - drivers license (Official Video)-slowedandreverbstudio.wav'",
     "output_type": "error",
     "traceback": [
      "\u001b[1;31m---------------------------------------------------------------------------\u001b[0m",
      "\u001b[1;31mFileNotFoundError\u001b[0m                         Traceback (most recent call last)",
      "Cell \u001b[1;32mIn[1], line 27\u001b[0m\n\u001b[0;32m     23\u001b[0m output_file \u001b[38;5;241m=\u001b[39m \u001b[38;5;124m\"\u001b[39m\u001b[38;5;124mC:\u001b[39m\u001b[38;5;130;01m\\\\\u001b[39;00m\u001b[38;5;124mUsers\u001b[39m\u001b[38;5;130;01m\\\\\u001b[39;00m\u001b[38;5;124mELITEBOOK 1030\u001b[39m\u001b[38;5;130;01m\\\\\u001b[39;00m\u001b[38;5;124mOneDrive\u001b[39m\u001b[38;5;130;01m\\\\\u001b[39;00m\u001b[38;5;124mDesktop\u001b[39m\u001b[38;5;130;01m\\\\\u001b[39;00m\u001b[38;5;124mmixed_audio.wav\u001b[39m\u001b[38;5;124m\"\u001b[39m\n\u001b[0;32m     26\u001b[0m \u001b[38;5;66;03m# Mix the two audio files together\u001b[39;00m\n\u001b[1;32m---> 27\u001b[0m mix_audio(audio_file1, audio_file2, output_file)\n",
      "Cell \u001b[1;32mIn[1], line 4\u001b[0m, in \u001b[0;36mmix_audio\u001b[1;34m(file1, file2, output_file)\u001b[0m\n\u001b[0;32m      3\u001b[0m \u001b[38;5;28;01mdef\u001b[39;00m \u001b[38;5;21mmix_audio\u001b[39m(file1, file2, output_file):\n\u001b[1;32m----> 4\u001b[0m     sound1 \u001b[38;5;241m=\u001b[39m AudioSegment\u001b[38;5;241m.\u001b[39mfrom_file(file1)\n\u001b[0;32m      5\u001b[0m     sound2 \u001b[38;5;241m=\u001b[39m AudioSegment\u001b[38;5;241m.\u001b[39mfrom_file(file2)\n\u001b[0;32m      7\u001b[0m     \u001b[38;5;66;03m# Adjust the length of the shorter audio to match the longer one\u001b[39;00m\n",
      "File \u001b[1;32mc:\\Users\\ELITEBOOK 1030\\anaconda3\\Lib\\site-packages\\pydub\\audio_segment.py:651\u001b[0m, in \u001b[0;36mAudioSegment.from_file\u001b[1;34m(cls, file, format, codec, parameters, start_second, duration, **kwargs)\u001b[0m\n\u001b[0;32m    649\u001b[0m \u001b[38;5;28;01mexcept\u001b[39;00m \u001b[38;5;167;01mTypeError\u001b[39;00m:\n\u001b[0;32m    650\u001b[0m     filename \u001b[38;5;241m=\u001b[39m \u001b[38;5;28;01mNone\u001b[39;00m\n\u001b[1;32m--> 651\u001b[0m file, close_file \u001b[38;5;241m=\u001b[39m _fd_or_path_or_tempfile(file, \u001b[38;5;124m'\u001b[39m\u001b[38;5;124mrb\u001b[39m\u001b[38;5;124m'\u001b[39m, tempfile\u001b[38;5;241m=\u001b[39m\u001b[38;5;28;01mFalse\u001b[39;00m)\n\u001b[0;32m    653\u001b[0m \u001b[38;5;28;01mif\u001b[39;00m \u001b[38;5;28mformat\u001b[39m:\n\u001b[0;32m    654\u001b[0m     \u001b[38;5;28mformat\u001b[39m \u001b[38;5;241m=\u001b[39m \u001b[38;5;28mformat\u001b[39m\u001b[38;5;241m.\u001b[39mlower()\n",
      "File \u001b[1;32mc:\\Users\\ELITEBOOK 1030\\anaconda3\\Lib\\site-packages\\pydub\\utils.py:60\u001b[0m, in \u001b[0;36m_fd_or_path_or_tempfile\u001b[1;34m(fd, mode, tempfile)\u001b[0m\n\u001b[0;32m     57\u001b[0m     close_fd \u001b[38;5;241m=\u001b[39m \u001b[38;5;28;01mTrue\u001b[39;00m\n\u001b[0;32m     59\u001b[0m \u001b[38;5;28;01mif\u001b[39;00m \u001b[38;5;28misinstance\u001b[39m(fd, basestring):\n\u001b[1;32m---> 60\u001b[0m     fd \u001b[38;5;241m=\u001b[39m \u001b[38;5;28mopen\u001b[39m(fd, mode\u001b[38;5;241m=\u001b[39mmode)\n\u001b[0;32m     61\u001b[0m     close_fd \u001b[38;5;241m=\u001b[39m \u001b[38;5;28;01mTrue\u001b[39;00m\n\u001b[0;32m     63\u001b[0m \u001b[38;5;28;01mtry\u001b[39;00m:\n",
      "\u001b[1;31mFileNotFoundError\u001b[0m: [Errno 2] No such file or directory: 'C:\\\\Users\\\\ELITEBOOK 1030\\\\OneDrive\\\\Desktop\\\\musiz\\\\Olivia Rodrigo - drivers license (Official Video)-slowedandreverbstudio.wav'"
     ]
    }
   ],
   "source": [
    "from pydub import AudioSegment\n",
    "\n",
    "def mix_audio(file1, file2, output_file):\n",
    "    sound1 = AudioSegment.from_file(file1)\n",
    "    sound2 = AudioSegment.from_file(file2)\n",
    "    \n",
    "    # Adjust the length of the shorter audio to match the longer one\n",
    "    duration_diff = len(sound1) - len(sound2)\n",
    "    if duration_diff > 0:\n",
    "        sound2 += AudioSegment.silent(duration=abs(duration_diff))\n",
    "    else:\n",
    "        sound1 += AudioSegment.silent(duration=abs(duration_diff))\n",
    "    \n",
    "    # Mix the two audio files\n",
    "    mixed_sound = sound1.overlay(sound2)\n",
    "    \n",
    "    # Export the mixed audio to a file\n",
    "    mixed_sound.export(output_file, format=\"wav\")\n",
    "\n",
    "# Paths to the audio files\n",
    "audio_file1 = \"C:\\\\Users\\\\ELITEBOOK 1030\\\\OneDrive\\\\Desktop\\\\musiz\\\\Olivia Rodrigo - drivers license (Official Video)-slowedandreverbstudio.wav\"\n",
    "audio_file2 = \"C:\\\\Users\\\\ELITEBOOK 1030\\\\OneDrive\\\\Desktop\\\\rainz\\\\10 Minutes of Rain and Thunderstorm Sounds For Focus, Relaxing and Sleep Epidemic ASMR.wav\"\n",
    "output_file = \"C:\\\\Users\\\\ELITEBOOK 1030\\\\OneDrive\\\\Desktop\\\\mixed_audio.wav\"\n",
    "\n",
    "\n",
    "# Mix the two audio files together\n",
    "mix_audio(audio_file1, audio_file2, output_file)\n"
   ]
  },
  {
   "cell_type": "markdown",
   "metadata": {},
   "source": [
    "DOWNLOADS IMAGE AS JPG \n"
   ]
  },
  {
   "cell_type": "code",
   "execution_count": null,
   "metadata": {},
   "outputs": [],
   "source": [
    "import requests\n",
    "\n",
    "def download_image(url, filename):\n",
    "    response = requests.get(url)\n",
    "    if response.status_code == 200:\n",
    "        with open(filename, 'wb') as f:\n",
    "            f.write(response.content)\n",
    "        print(\"Image downloaded successfully!\")\n",
    "    else:\n",
    "        print(\"Failed to download image\")\n",
    "\n",
    "# URL of the image you want to download\n",
    "image_url = \"https://drscdn.500px.org/photo/27687791/q%3D90_m%3D1024/v2?sig=2f12b2b76ee2ea96552ab745168443050d7d815823d53bcc1ff6fbc85da1a9d9\"\n",
    "\n",
    "# Filename to save the image as\n",
    "filename = \"imaa_image.jpg\"\n",
    "\n",
    "# Download the image\n",
    "download_image(image_url, filename)\n"
   ]
  }
 ],
 "metadata": {
  "kernelspec": {
   "display_name": "base",
   "language": "python",
   "name": "python3"
  },
  "language_info": {
   "codemirror_mode": {
    "name": "ipython",
    "version": 3
   },
   "file_extension": ".py",
   "mimetype": "text/x-python",
   "name": "python",
   "nbconvert_exporter": "python",
   "pygments_lexer": "ipython3",
   "version": "3.11.5"
  }
 },
 "nbformat": 4,
 "nbformat_minor": 2
}
